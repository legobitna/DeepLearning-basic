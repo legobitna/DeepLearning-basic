{
  "nbformat": 4,
  "nbformat_minor": 0,
  "metadata": {
    "colab": {
      "name": "Copy of Question_1b.ipynb",
      "provenance": [],
      "collapsed_sections": [],
      "include_colab_link": true
    },
    "kernelspec": {
      "name": "python3",
      "display_name": "Python 3"
    }
  },
  "cells": [
    {
      "cell_type": "markdown",
      "metadata": {
        "id": "view-in-github",
        "colab_type": "text"
      },
      "source": [
        "<a href=\"https://colab.research.google.com/github/legobitna/DeepLearning-basic/blob/main/Question_1b_linear_regression_with_neuron_network.ipynb\" target=\"_parent\"><img src=\"https://colab.research.google.com/assets/colab-badge.svg\" alt=\"Open In Colab\"/></a>"
      ]
    },
    {
      "cell_type": "code",
      "metadata": {
        "id": "JP7Mg1oUA0qR",
        "colab": {
          "base_uri": "https://localhost:8080/"
        },
        "outputId": "becf6557-f1a1-49aa-8d6b-ae8aa6300da1"
      },
      "source": [
        "# ======================================================================\n",
        "# There are 5 questions in this exam with increasing difficulty from 1-5.\n",
        "# Please note that the weight of the grade for the question is relative\n",
        "# to its difficulty. So your Category 1 question will score significantly\n",
        "# less than your Category 5 question.\n",
        "#\n",
        "# Don't use lambda layers in your model.\n",
        "# You do not need them to solve the question.\n",
        "# Lambda layers are not supported by the grading infrastructure.\n",
        "#\n",
        "# You must use the Submit and Test model button to submit your model\n",
        "# at least once in this category before you finally submit your exam,\n",
        "# otherwise you will score zero for this category.\n",
        "# ======================================================================\n",
        "#\n",
        "# Getting Started Question\n",
        "#\n",
        "# Given this data, train a neural network to match the xs to the ys\n",
        "# So that a predictor for a new value of X will give a float value\n",
        "# very close to the desired answer\n",
        "# i.e. print(model.predict([10.0])) would give a satisfactory result\n",
        "# The test infrastructure expects a trained model that accepts\n",
        "# an input shape of [1]\n",
        "\n",
        "import numpy as np\n",
        "import tensorflow as tf\n",
        "\n",
        "def solution_model():\n",
        "    xs = np.array([-1.0, 0.0, 1.0, 2.0, 3.0, 4.0], dtype=float)\n",
        "    ys = np.array([5.0, 6.0, 7.0, 8.0, 9.0, 10.0], dtype=float)\n",
        "\n",
        "    # YOUR CODE HERE\n",
        "    model = tf.keras.Sequential([\n",
        "      \n",
        "        tf.keras.layers.Dense(units=1,input_shape=[1,])\n",
        "    ])\n",
        "    model.compile(\n",
        "    optimizer=tf.optimizers.Adam(learning_rate=1),\n",
        "    loss='mean_absolute_error')\n",
        "    history = model.fit(xs,ys,epochs=20)\n",
        "    return model\n",
        "\n",
        "# Note that you'll need to save your model as a .h5 like this.\n",
        "# When you press the Submit and Test button, your saved .h5 model will\n",
        "# be sent to the testing infrastructure for scoring\n",
        "# and the score will be returned to you.\n",
        "if __name__ == '__main__':\n",
        "    model = solution_model()\n",
        "    model.save(\"mymodel.h5\")\n"
      ],
      "execution_count": 5,
      "outputs": [
        {
          "output_type": "stream",
          "text": [
            "Epoch 1/20\n",
            "1/1 [==============================] - 0s 1ms/step - loss: 6.9146\n",
            "Epoch 2/20\n",
            "1/1 [==============================] - 0s 1ms/step - loss: 4.4146\n",
            "Epoch 3/20\n",
            "1/1 [==============================] - 0s 922us/step - loss: 2.4919\n",
            "Epoch 4/20\n",
            "1/1 [==============================] - 0s 1ms/step - loss: 2.8139\n",
            "Epoch 5/20\n",
            "1/1 [==============================] - 0s 964us/step - loss: 2.8326\n",
            "Epoch 6/20\n",
            "1/1 [==============================] - 0s 926us/step - loss: 2.4518\n",
            "Epoch 7/20\n",
            "1/1 [==============================] - 0s 1ms/step - loss: 1.8176\n",
            "Epoch 8/20\n",
            "1/1 [==============================] - 0s 1ms/step - loss: 0.9692\n",
            "Epoch 9/20\n",
            "1/1 [==============================] - 0s 1ms/step - loss: 0.5545\n",
            "Epoch 10/20\n",
            "1/1 [==============================] - 0s 805us/step - loss: 0.7175\n",
            "Epoch 11/20\n",
            "1/1 [==============================] - 0s 1ms/step - loss: 0.7344\n",
            "Epoch 12/20\n",
            "1/1 [==============================] - 0s 1ms/step - loss: 0.7223\n",
            "Epoch 13/20\n",
            "1/1 [==============================] - 0s 847us/step - loss: 0.9184\n",
            "Epoch 14/20\n",
            "1/1 [==============================] - 0s 806us/step - loss: 0.9454\n",
            "Epoch 15/20\n",
            "1/1 [==============================] - 0s 1ms/step - loss: 0.9059\n",
            "Epoch 16/20\n",
            "1/1 [==============================] - 0s 1ms/step - loss: 0.9185\n",
            "Epoch 17/20\n",
            "1/1 [==============================] - 0s 1ms/step - loss: 0.8254\n",
            "Epoch 18/20\n",
            "1/1 [==============================] - 0s 1ms/step - loss: 0.5977\n",
            "Epoch 19/20\n",
            "1/1 [==============================] - 0s 1ms/step - loss: 0.4450\n",
            "Epoch 20/20\n",
            "1/1 [==============================] - 0s 1ms/step - loss: 0.2027\n"
          ],
          "name": "stdout"
        }
      ]
    },
    {
      "cell_type": "code",
      "metadata": {
        "id": "W0SnfP1PNgTK"
      },
      "source": [
        "import numpy as np\n",
        "from sklearn.linear_model import LinearRegression\n",
        "import tensorflow as tf"
      ],
      "execution_count": 11,
      "outputs": []
    },
    {
      "cell_type": "code",
      "metadata": {
        "id": "-ub1_6rpNi3o"
      },
      "source": [
        "xs = np.array([-1.0, 0.0, 1.0, 2.0, 3.0, 4.0], dtype=float)\n",
        "ys = np.array([5.0, 6.0, 7.0, 8.0, 9.0, 10.0], dtype=float)"
      ],
      "execution_count": 5,
      "outputs": []
    },
    {
      "cell_type": "code",
      "metadata": {
        "id": "JMZbWWA5Nm0k"
      },
      "source": [
        "horsepower_model = tf.keras.Sequential([\n",
        "   \n",
        "    tf.keras.layers.Dense(units=1,input_shape=[1,])\n",
        "])\n"
      ],
      "execution_count": 13,
      "outputs": []
    },
    {
      "cell_type": "code",
      "metadata": {
        "id": "GoeBGPvrU7Uz"
      },
      "source": [
        "horsepower_model.compile(\n",
        "    optimizer=tf.optimizers.Adam(learning_rate=0.5),\n",
        "    loss='mean_absolute_error')"
      ],
      "execution_count": 42,
      "outputs": []
    },
    {
      "cell_type": "code",
      "metadata": {
        "colab": {
          "base_uri": "https://localhost:8080/"
        },
        "id": "fmzJOUkgVBvI",
        "outputId": "e217f46f-f3c6-4ab1-d1bb-f6bd6e339345"
      },
      "source": [
        "history = horsepower_model.fit(xs,ys,epochs=20)"
      ],
      "execution_count": 43,
      "outputs": [
        {
          "output_type": "stream",
          "text": [
            "Epoch 1/20\n",
            "1/1 [==============================] - 0s 1ms/step - loss: 0.1574\n",
            "Epoch 2/20\n",
            "1/1 [==============================] - 0s 976us/step - loss: 1.1026\n",
            "Epoch 3/20\n",
            "1/1 [==============================] - 0s 1ms/step - loss: 1.0509\n",
            "Epoch 4/20\n",
            "1/1 [==============================] - 0s 2ms/step - loss: 0.5586\n",
            "Epoch 5/20\n",
            "1/1 [==============================] - 0s 1ms/step - loss: 0.2432\n",
            "Epoch 6/20\n",
            "1/1 [==============================] - 0s 1ms/step - loss: 0.4869\n",
            "Epoch 7/20\n",
            "1/1 [==============================] - 0s 1ms/step - loss: 0.4233\n",
            "Epoch 8/20\n",
            "1/1 [==============================] - 0s 957us/step - loss: 0.1673\n",
            "Epoch 9/20\n",
            "1/1 [==============================] - 0s 1ms/step - loss: 0.3283\n",
            "Epoch 10/20\n",
            "1/1 [==============================] - 0s 1ms/step - loss: 0.5035\n",
            "Epoch 11/20\n",
            "1/1 [==============================] - 0s 1ms/step - loss: 0.4573\n",
            "Epoch 12/20\n",
            "1/1 [==============================] - 0s 1ms/step - loss: 0.2534\n",
            "Epoch 13/20\n",
            "1/1 [==============================] - 0s 1ms/step - loss: 0.1675\n",
            "Epoch 14/20\n",
            "1/1 [==============================] - 0s 2ms/step - loss: 0.2809\n",
            "Epoch 15/20\n",
            "1/1 [==============================] - 0s 2ms/step - loss: 0.2140\n",
            "Epoch 16/20\n",
            "1/1 [==============================] - 0s 3ms/step - loss: 0.0387\n",
            "Epoch 17/20\n",
            "1/1 [==============================] - 0s 1ms/step - loss: 0.2753\n",
            "Epoch 18/20\n",
            "1/1 [==============================] - 0s 1ms/step - loss: 0.3580\n",
            "Epoch 19/20\n",
            "1/1 [==============================] - 0s 4ms/step - loss: 0.2779\n",
            "Epoch 20/20\n",
            "1/1 [==============================] - 0s 1ms/step - loss: 0.0763\n"
          ],
          "name": "stdout"
        }
      ]
    },
    {
      "cell_type": "code",
      "metadata": {
        "colab": {
          "base_uri": "https://localhost:8080/"
        },
        "id": "4Dm52vVeN247",
        "outputId": "25937867-2eb2-41e1-a975-7d830b431e09"
      },
      "source": [
        "y_hat=horsepower_model.predict([5.0])\n",
        "y_hat"
      ],
      "execution_count": 45,
      "outputs": [
        {
          "output_type": "execute_result",
          "data": {
            "text/plain": [
              "array([[11.527667]], dtype=float32)"
            ]
          },
          "metadata": {
            "tags": []
          },
          "execution_count": 45
        }
      ]
    },
    {
      "cell_type": "code",
      "metadata": {
        "id": "rJ6I47pnON5v"
      },
      "source": [
        ""
      ],
      "execution_count": null,
      "outputs": []
    }
  ]
}