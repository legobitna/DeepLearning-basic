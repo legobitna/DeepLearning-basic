{
  "nbformat": 4,
  "nbformat_minor": 0,
  "metadata": {
    "colab": {
      "name": "Copy of 7.2b_Lab_The_Mechanics_of_TF2.ipynb",
      "provenance": [],
      "collapsed_sections": [],
      "include_colab_link": true
    },
    "kernelspec": {
      "display_name": "Python 3",
      "language": "python",
      "name": "python3"
    },
    "language_info": {
      "codemirror_mode": {
        "name": "ipython",
        "version": 3
      },
      "file_extension": ".py",
      "mimetype": "text/x-python",
      "name": "python",
      "nbconvert_exporter": "python",
      "pygments_lexer": "ipython3",
      "version": "3.7.6"
    }
  },
  "cells": [
    {
      "cell_type": "markdown",
      "metadata": {
        "id": "view-in-github",
        "colab_type": "text"
      },
      "source": [
        "<a href=\"https://colab.research.google.com/github/legobitna/DeepLearning-basic/blob/main/7_2b_Lab_The_Mechanics_of_TF2.ipynb\" target=\"_parent\"><img src=\"https://colab.research.google.com/assets/colab-badge.svg\" alt=\"Open In Colab\"/></a>"
      ]
    },
    {
      "cell_type": "markdown",
      "metadata": {
        "id": "ZOxmGK9sgXw2"
      },
      "source": [
        "# Lab - The mechanics of TF2"
      ]
    },
    {
      "cell_type": "markdown",
      "metadata": {
        "id": "WFYMZWlhNpE3"
      },
      "source": [
        "## Basic TensorFLow"
      ]
    },
    {
      "cell_type": "code",
      "metadata": {
        "id": "x8gLZLmyNpE5"
      },
      "source": [
        "import numpy as np\n",
        "import pandas as pd\n",
        "import seaborn as sns\n",
        "import matplotlib.pyplot as plt\n",
        "%matplotlib inline\n",
        "\n",
        "import warnings\n",
        "warnings.filterwarnings('ignore')\n",
        "\n",
        "sns.set_style(\"whitegrid\")"
      ],
      "execution_count": 2,
      "outputs": []
    },
    {
      "cell_type": "code",
      "metadata": {
        "id": "X0YfOshagXw6",
        "outputId": "d865ad3e-0d5a-491b-eeb5-374a5e53ab9c",
        "colab": {
          "base_uri": "https://localhost:8080/",
          "height": 34
        }
      },
      "source": [
        "import tensorflow as tf\n",
        "\n",
        "print(tf.__version__)"
      ],
      "execution_count": 3,
      "outputs": [
        {
          "output_type": "stream",
          "text": [
            "2.3.0\n"
          ],
          "name": "stdout"
        }
      ]
    },
    {
      "cell_type": "markdown",
      "metadata": {
        "id": "zl26ZeMlNpE-"
      },
      "source": [
        "### Hello world"
      ]
    },
    {
      "cell_type": "code",
      "metadata": {
        "id": "leQwcSmLNpE-",
        "outputId": "cbc264e4-682d-45b0-96c8-4a606422d2fa",
        "colab": {
          "base_uri": "https://localhost:8080/",
          "height": 51
        }
      },
      "source": [
        "# Create a constant Tensor with the value \"Hello, TensorFlow!\"\n",
        "x= tf.constant(\"hellow, tensorflow\")\n",
        "# Print out the tensor\n",
        "print(\"tensor\",x)\n",
        "# Print out the numpy value\n",
        "x.numpy()"
      ],
      "execution_count": 4,
      "outputs": [
        {
          "output_type": "stream",
          "text": [
            "tensor tf.Tensor(b'hellow, tensorflow', shape=(), dtype=string)\n"
          ],
          "name": "stdout"
        },
        {
          "output_type": "execute_result",
          "data": {
            "text/plain": [
              "b'hellow, tensorflow'"
            ]
          },
          "metadata": {
            "tags": []
          },
          "execution_count": 4
        }
      ]
    },
    {
      "cell_type": "markdown",
      "metadata": {
        "id": "buB_gbCtNpFB"
      },
      "source": [
        "### Variables\n",
        "\n",
        "Variables are manipulated via the tf.Variable class. A tf.Variable represents a tensor whose value can be changed by running ops on it. Specific ops allow you to read and modify the values of this tensor."
      ]
    },
    {
      "cell_type": "code",
      "metadata": {
        "id": "LSVjqzPINpFB",
        "outputId": "5c9492d0-1bc8-4450-e862-59beaad49cf8",
        "colab": {
          "base_uri": "https://localhost:8080/",
          "height": 51
        }
      },
      "source": [
        "# Create a variable with value 1\n",
        "y = tf.Variable(1)\n",
        "\n",
        "# Print out the tensor\n",
        "print(y)\n",
        "# Print out the numpy value\n",
        "y.numpy()"
      ],
      "execution_count": 5,
      "outputs": [
        {
          "output_type": "stream",
          "text": [
            "<tf.Variable 'Variable:0' shape=() dtype=int32, numpy=1>\n"
          ],
          "name": "stdout"
        },
        {
          "output_type": "execute_result",
          "data": {
            "text/plain": [
              "1"
            ]
          },
          "metadata": {
            "tags": []
          },
          "execution_count": 5
        }
      ]
    },
    {
      "cell_type": "code",
      "metadata": {
        "id": "4I6DXC-dNpFE",
        "outputId": "aae81697-443c-4449-af3a-7a9b2ed0628f",
        "colab": {
          "base_uri": "https://localhost:8080/",
          "height": 51
        }
      },
      "source": [
        "# Increase the value by one in Pythonic way\n",
        "\n",
        "y = y+1\n",
        "print(\"value\",y.numpy())\n",
        "# Increase the value by one using assign_add()\n",
        "y = tf.Variable(y)\n",
        "y.assign_add(y,1)\n",
        "y.numpy()\n"
      ],
      "execution_count": 6,
      "outputs": [
        {
          "output_type": "stream",
          "text": [
            "value 2\n"
          ],
          "name": "stdout"
        },
        {
          "output_type": "execute_result",
          "data": {
            "text/plain": [
              "4"
            ]
          },
          "metadata": {
            "tags": []
          },
          "execution_count": 6
        }
      ]
    },
    {
      "cell_type": "markdown",
      "metadata": {
        "id": "N6QnwXyONpFH"
      },
      "source": [
        "### Basic Operations"
      ]
    },
    {
      "cell_type": "code",
      "metadata": {
        "id": "HfsLRgFgNpFI",
        "outputId": "f1d87bc1-fa6b-49a2-bfce-f8a52cc6b09f",
        "colab": {
          "base_uri": "https://localhost:8080/",
          "height": 68
        }
      },
      "source": [
        "# Create a tensor with all ones and shape (2, 3)\n",
        "z = tf.ones(shape=(2,3))\n",
        "print(z)\n"
      ],
      "execution_count": 7,
      "outputs": [
        {
          "output_type": "stream",
          "text": [
            "tf.Tensor(\n",
            "[[1. 1. 1.]\n",
            " [1. 1. 1.]], shape=(2, 3), dtype=float32)\n"
          ],
          "name": "stdout"
        }
      ]
    },
    {
      "cell_type": "code",
      "metadata": {
        "id": "NjZyxXbfNpFK"
      },
      "source": [
        "# Try to assign the element at (0,0) by 5\n",
        "# z[0,0] = 5"
      ],
      "execution_count": 8,
      "outputs": []
    },
    {
      "cell_type": "code",
      "metadata": {
        "id": "TaRABnaZNpFP",
        "outputId": "a4a0f0b8-66bc-4b4e-f518-823ba3a781b3",
        "colab": {
          "base_uri": "https://localhost:8080/",
          "height": 68
        }
      },
      "source": [
        "# Try again with the function assign()\n",
        "z= tf.Variable(z)\n",
        "z[0,0].assign(5)\n",
        "print(z)\n"
      ],
      "execution_count": 9,
      "outputs": [
        {
          "output_type": "stream",
          "text": [
            "<tf.Variable 'Variable:0' shape=(2, 3) dtype=float32, numpy=\n",
            "array([[5., 1., 1.],\n",
            "       [1., 1., 1.]], dtype=float32)>\n"
          ],
          "name": "stdout"
        }
      ]
    },
    {
      "cell_type": "code",
      "metadata": {
        "id": "r3CH5CqENpFU",
        "outputId": "0ae50704-3544-42ce-ab2b-4d60d72c047c",
        "colab": {
          "base_uri": "https://localhost:8080/",
          "height": 85
        }
      },
      "source": [
        "# Matrix multiplication\n",
        "\n",
        "matrix1 = tf.constant([[3., 3.]])\n",
        "matrix2 = tf.constant([[2.],[2.]])\n",
        "\n",
        "# Create a Matmul op that takes 'matrix1' and 'matrix2' as inputs.\n",
        "# The returned value, 'product', represents the result of the matrix\n",
        "# multiplication.\n",
        "product = tf.matmul(matrix1,matrix2)\n",
        "print(\"Multiplication with matrixes:\", product)\n",
        "\n",
        "# broadcast matrix in Multiplication, try to use *\n",
        "print(\"broadcast matrix in Multiplication:\", matrix1 * matrix2)"
      ],
      "execution_count": 10,
      "outputs": [
        {
          "output_type": "stream",
          "text": [
            "Multiplication with matrixes: tf.Tensor([[12.]], shape=(1, 1), dtype=float32)\n",
            "broadcast matrix in Multiplication: tf.Tensor(\n",
            "[[6. 6.]\n",
            " [6. 6.]], shape=(2, 2), dtype=float32)\n"
          ],
          "name": "stdout"
        }
      ]
    },
    {
      "cell_type": "code",
      "metadata": {
        "id": "XVmvSNE_NpFY",
        "outputId": "b26a49ab-a56f-4e04-94c4-5fd6a864dbc4",
        "colab": {
          "base_uri": "https://localhost:8080/",
          "height": 34
        }
      },
      "source": [
        "# Cast operation, change the dtype of a to int32 and assign to b\n",
        "a = tf.convert_to_tensor(2.)\n",
        "b = tf.cast(a, tf.int32)\n",
        "print(a, b)\n"
      ],
      "execution_count": 11,
      "outputs": [
        {
          "output_type": "stream",
          "text": [
            "tf.Tensor(2.0, shape=(), dtype=float32) tf.Tensor(2, shape=(), dtype=int32)\n"
          ],
          "name": "stdout"
        }
      ]
    },
    {
      "cell_type": "code",
      "metadata": {
        "id": "huw511ZJNpFc",
        "outputId": "99ae0af8-98f6-4719-bcfa-b9dcc38b4968",
        "colab": {
          "base_uri": "https://localhost:8080/",
          "height": 51
        }
      },
      "source": [
        "# Get the shape of a\n",
        "a = tf.ones([2,3])\n",
        "print(a.shape[0], a.shape[1]) # 2, 3\n",
        "shape = tf.shape(a)           # a tensor\n",
        "print(shape[0], shape[1])"
      ],
      "execution_count": 12,
      "outputs": [
        {
          "output_type": "stream",
          "text": [
            "2 3\n",
            "tf.Tensor(2, shape=(), dtype=int32) tf.Tensor(3, shape=(), dtype=int32)\n"
          ],
          "name": "stdout"
        }
      ]
    },
    {
      "cell_type": "markdown",
      "metadata": {
        "id": "TpAo7_GbNpFg"
      },
      "source": [
        "### Activation Functions"
      ]
    },
    {
      "cell_type": "code",
      "metadata": {
        "id": "rFOSGsEINpFh",
        "outputId": "65dee2d2-4f3e-4f04-f922-f06634f8c4a2",
        "colab": {
          "base_uri": "https://localhost:8080/",
          "height": 34
        }
      },
      "source": [
        "# fake data\n",
        "x = np.linspace(-5, 5, 100)\n",
        "x.shape"
      ],
      "execution_count": 13,
      "outputs": [
        {
          "output_type": "execute_result",
          "data": {
            "text/plain": [
              "(100,)"
            ]
          },
          "metadata": {
            "tags": []
          },
          "execution_count": 13
        }
      ]
    },
    {
      "cell_type": "code",
      "metadata": {
        "id": "y5PN8sb_NpFk",
        "outputId": "54591406-795e-46e7-884c-c73688adb6fe",
        "colab": {
          "base_uri": "https://localhost:8080/",
          "height": 34
        }
      },
      "source": [
        "# Create relu, elu, sigmoid, tanh, softmax activation function\n",
        "y_relu = tf.nn.relu(x)\n",
        "y_elu = tf.nn.elu(x)\n",
        "y_sigmoid = tf.nn.sigmoid(x)\n",
        "y_tanh = tf.nn.tanh(x)\n",
        "y_softmax = tf.nn.softmax(x)\n",
        "\n",
        "print(y_relu.shape)\n"
      ],
      "execution_count": 14,
      "outputs": [
        {
          "output_type": "stream",
          "text": [
            "(100,)\n"
          ],
          "name": "stdout"
        }
      ]
    },
    {
      "cell_type": "code",
      "metadata": {
        "id": "PrbIkaJfNpFn",
        "outputId": "59b309aa-f5d7-4204-93dd-ea2f9c73ca37",
        "colab": {
          "base_uri": "https://localhost:8080/",
          "height": 378
        }
      },
      "source": [
        "# plt to visualize relu, elu, sigmoid, tanh\n",
        "plt.figure(1, figsize=(8, 6))\n",
        "plt.subplot(221)\n",
        "plt.plot(x, y_relu, c='red', label='relu')\n",
        "plt.ylim((-1, 5))\n",
        "plt.legend(loc='best')\n",
        "\n",
        "plt.subplot(222)\n",
        "plt.plot(x,y_sigmoid, c=\"red\",label='sigmoid')\n",
        "plt.ylim((-1.2, 1.2))\n",
        "plt.legend(loc='best')\n",
        "\n",
        "plt.subplot(223)\n",
        "plt.plot(x,y_tanh, c=\"red\",label='tanh')\n",
        "plt.ylim((-0.2, 1.2))\n",
        "plt.legend(loc='best')\n",
        "\n",
        "plt.subplot(224)\n",
        "plt.plot(x,y_elu, c=\"red\",label='elu')\n",
        "plt.ylim((-1.2, 1.2))\n",
        "plt.legend(loc='best')\n",
        "\n",
        "plt.show()"
      ],
      "execution_count": 15,
      "outputs": [
        {
          "output_type": "display_data",
          "data": {
            "image/png": "[encoded data removed]",
            "text/plain": [
              "<Figure size 576x432 with 4 Axes>"
            ]
          },
          "metadata": {
            "tags": []
          }
        }
      ]
    },
    {
      "cell_type": "markdown",
      "metadata": {
        "id": "RAdcbCWUNpFp"
      },
      "source": [
        "### Gradient Tape\n",
        "\n",
        "tf.GradientTape is an API for automatic differentiation - computing the gradient of a computation with respect to its input variables. Tensorflow \"records\" all operations executed inside the context of a tf.GradientTape onto a \"tape\""
      ]
    },
    {
      "cell_type": "code",
      "metadata": {
        "id": "BAsaZWhYNpFq",
        "outputId": "604405bb-752d-4d8a-e2b2-5eddc69a261c",
        "colab": {
          "base_uri": "https://localhost:8080/",
          "height": 105
        }
      },
      "source": [
        "# Create y = x**2 and z = y**2, use GradientTape to calculate dz_dx and dy_dx\n",
        "\n",
        "x = tf.constant(3.0)\n",
        "with tf.GradientTape(persistent=True) as t:\n",
        "    # Your code here\n",
        "    t.watch(x)\n",
        "    y = x*x\n",
        "    z= y*y\n",
        "    \n",
        "    dz_dx = t.gradient(z,x)\n",
        "    dy_dx= t.gradient(y,x)\n",
        "\n",
        "print(\"dz/dx=\", dz_dx.numpy())\n",
        "print(\"dy/dx=\", dy_dx.numpy())\n",
        "del t  # Drop the reference to the tape"
      ],
      "execution_count": 16,
      "outputs": [
        {
          "output_type": "stream",
          "text": [
            "WARNING:tensorflow:Calling GradientTape.gradient on a persistent tape inside its context is significantly less efficient than calling it outside the context (it causes the gradient ops to be recorded on the tape, leading to increased CPU and memory usage). Only call GradientTape.gradient inside the context if you actually want to trace the gradient in order to compute higher order derivatives.\n",
            "WARNING:tensorflow:Calling GradientTape.gradient on a persistent tape inside its context is significantly less efficient than calling it outside the context (it causes the gradient ops to be recorded on the tape, leading to increased CPU and memory usage). Only call GradientTape.gradient inside the context if you actually want to trace the gradient in order to compute higher order derivatives.\n",
            "dz/dx= 108.0\n",
            "dy/dx= 6.0\n"
          ],
          "name": "stdout"
        }
      ]
    },
    {
      "cell_type": "markdown",
      "metadata": {
        "id": "5SPu_kHeNpFs"
      },
      "source": [
        "**Recording control flow**: Because tapes record operations as they are executed, Python control flow (using ifs and whiles for example) is naturally handled"
      ]
    },
    {
      "cell_type": "code",
      "metadata": {
        "id": "4LepLfxeNpFt",
        "outputId": "8df5df4a-9d60-4937-c5a8-38d0ac205c95",
        "colab": {
          "base_uri": "https://localhost:8080/",
          "height": 71
        }
      },
      "source": [
        "def f(x, y):\n",
        "    '''Give two integer x, y\n",
        "\n",
        "        \n",
        "    Return\n",
        "    if x is larger than 5, then return 2*x +7*y\n",
        "    otherwise, then return 7*x + 2*y\n",
        "    '''\n",
        "    # Your code here\n",
        "    if(x>5):\n",
        "        output = 2*x + 7*y\n",
        "    else:\n",
        "        output = 7*x + 2*y\n",
        "    \n",
        "    return output\n",
        "\n",
        "def grad(x, y):\n",
        "    '''Using GradientTape to calculate df_dx'''\n",
        "    # Your code here\n",
        "\n",
        "    with tf.GradientTape(persistent=True) as t:\n",
        "      t.watch(x)\n",
        "      out = f(x,y)\n",
        "      return t.gradient(out,x)\n",
        "\n",
        "x = tf.convert_to_tensor(2.0)\n",
        "assert grad(x, 3).numpy() == 7.0\n",
        "x = tf.convert_to_tensor(6.0)\n",
        "assert grad(x, 4).numpy() == 2.0\n",
        "print(grad(x, 4).numpy() == 2.0)"
      ],
      "execution_count": 17,
      "outputs": [
        {
          "output_type": "stream",
          "text": [
            "WARNING:tensorflow:Calling GradientTape.gradient on a persistent tape inside its context is significantly less efficient than calling it outside the context (it causes the gradient ops to be recorded on the tape, leading to increased CPU and memory usage). Only call GradientTape.gradient inside the context if you actually want to trace the gradient in order to compute higher order derivatives.\n",
            "True\n"
          ],
          "name": "stdout"
        }
      ]
    },
    {
      "cell_type": "markdown",
      "metadata": {
        "id": "RWmA02qvgXxo"
      },
      "source": [
        "## Sequential, Functional, Subclassing API"
      ]
    },
    {
      "cell_type": "markdown",
      "metadata": {
        "id": "8d0pmALbgXxo"
      },
      "source": [
        "### Get data"
      ]
    },
    {
      "cell_type": "markdown",
      "metadata": {
        "id": "1L19iLAPgXxp"
      },
      "source": [
        "Let's import the [California housing dataset](https://scikit-learn.org/stable/modules/generated/sklearn.datasets.fetch_california_housing.html) and tackle it using a regression neural network"
      ]
    },
    {
      "cell_type": "code",
      "metadata": {
        "id": "MI7od1kTgXxp",
        "outputId": "d8368ca2-ca97-43b3-fbfd-56bf21939f86",
        "colab": {
          "base_uri": "https://localhost:8080/",
          "height": 34
        }
      },
      "source": [
        "from sklearn.datasets import fetch_california_housing\n",
        "from sklearn.model_selection import train_test_split\n",
        "from sklearn.preprocessing import StandardScaler\n",
        "\n",
        "housing = fetch_california_housing()"
      ],
      "execution_count": 18,
      "outputs": [
        {
          "output_type": "stream",
          "text": [
            "Downloading Cal. housing from https://ndownloader.figshare.com/files/5976036 to /root/scikit_learn_data\n"
          ],
          "name": "stderr"
        }
      ]
    },
    {
      "cell_type": "code",
      "metadata": {
        "id": "t_X4Pwmw0WZm",
        "outputId": "1763906e-d29d-4d68-c8fa-7c30c063908a",
        "colab": {
          "base_uri": "https://localhost:8080/",
          "height": 153
        }
      },
      "source": [
        "housing.feature_names"
      ],
      "execution_count": 19,
      "outputs": [
        {
          "output_type": "execute_result",
          "data": {
            "text/plain": [
              "['MedInc',\n",
              " 'HouseAge',\n",
              " 'AveRooms',\n",
              " 'AveBedrms',\n",
              " 'Population',\n",
              " 'AveOccup',\n",
              " 'Latitude',\n",
              " 'Longitude']"
            ]
          },
          "metadata": {
            "tags": []
          },
          "execution_count": 19
        }
      ]
    },
    {
      "cell_type": "code",
      "metadata": {
        "id": "5qeUuTtxgXxs",
        "outputId": "260ef1b6-3d2a-47ae-81e2-0f1723ce52fb",
        "colab": {
          "base_uri": "https://localhost:8080/",
          "height": 34
        }
      },
      "source": [
        "housing.data.shape"
      ],
      "execution_count": 20,
      "outputs": [
        {
          "output_type": "execute_result",
          "data": {
            "text/plain": [
              "(20640, 8)"
            ]
          },
          "metadata": {
            "tags": []
          },
          "execution_count": 20
        }
      ]
    },
    {
      "cell_type": "code",
      "metadata": {
        "id": "ECne5HapgXxx"
      },
      "source": [
        "# Create training, validation, and test set with test_size=0.2\n",
        "# Your code here\n",
        "from sklearn.model_selection import train_test_split\n",
        "from sklearn.pipeline import Pipeline\n",
        "from sklearn.preprocessing import StandardScaler\n",
        "X_train_full, x_test, Y_train_full, y_test = train_test_split(housing.data,housing.target, test_size=0.2)\n",
        "x_train, x_valid,y_train,y_valid = train_test_split(X_train_full,Y_train_full, test_size=0.2)\n",
        "# Scale training data and transform validation and test data\n",
        "# Your code here\n",
        "scaler = StandardScaler()\n",
        "x_train= scaler.fit_transform(x_train) # put the data into 0to 1 with scaler and it will re range the data with transform \n",
        "x_test =scaler.fit_transform(x_test)\n",
        "x_valid=scaler.fit_transform(x_valid)\n"
      ],
      "execution_count": 21,
      "outputs": []
    },
    {
      "cell_type": "code",
      "metadata": {
        "id": "ESKcrisbynR_",
        "outputId": "69fbfc5b-8ead-4ba0-bb6e-97862f2c4dab",
        "colab": {
          "base_uri": "https://localhost:8080/",
          "height": 34
        }
      },
      "source": [
        "scaler_2 = StandardScaler();\n",
        "x = np.array([100., 200., 300., 400., 500.]).reshape((-1, 1))\n",
        "y = scaler_2.fit_transform(x)  #  병균을구해서 빼버림 \n",
        "y.std()  # 이 숫자는 1이다 "
      ],
      "execution_count": 22,
      "outputs": [
        {
          "output_type": "execute_result",
          "data": {
            "text/plain": [
              "0.9999999999999999"
            ]
          },
          "metadata": {
            "tags": []
          },
          "execution_count": 22
        }
      ]
    },
    {
      "cell_type": "markdown",
      "metadata": {
        "id": "f8T-BfssgXx1"
      },
      "source": [
        "### Sequential API\n",
        "\n",
        "Using the Sequential API to build, train, evaluate, and use a regression MLP to make predictions."
      ]
    },
    {
      "cell_type": "code",
      "metadata": {
        "id": "t_z7IcnzgXx2",
        "outputId": "7b5860d7-5a6a-4113-a60b-6378d85d4957",
        "colab": {
          "base_uri": "https://localhost:8080/",
          "height": 901
        }
      },
      "source": [
        "# Neural Network with 1 hidden layers with 30 nodes, \n",
        "# Activation function: relu\n",
        "# Loss: MSE, optimizer: SGD, learning rate: 1e-2\n",
        "# Train the model 20 epochs\n",
        "# Your code here\n",
        "model = tf.keras.models.Sequential([\n",
        "    tf.keras.layers.Dense(30, activation=\"relu\",input_shape=x_train.shape[1:]),\n",
        "     tf.keras.layers.Dense(1)\n",
        "])\n",
        "\n",
        "# Display all the model's layers\n",
        "model.summary()\n",
        "\n",
        "optimizer = tf.keras.optimizers.SGD(lr=1e-2)\n",
        "model.compile(loss=\"MSE\",\n",
        "              optimizer=optimizer)\n",
        "\n",
        "history = model.fit(x_train,y_train,epochs=20,validation_data=(x_valid,y_valid))"
      ],
      "execution_count": 26,
      "outputs": [
        {
          "output_type": "stream",
          "text": [
            "Model: \"sequential_2\"\n",
            "_________________________________________________________________\n",
            "Layer (type)                 Output Shape              Param #   \n",
            "=================================================================\n",
            "dense_3 (Dense)              (None, 30)                270       \n",
            "_________________________________________________________________\n",
            "dense_4 (Dense)              (None, 1)                 31        \n",
            "=================================================================\n",
            "Total params: 301\n",
            "Trainable params: 301\n",
            "Non-trainable params: 0\n",
            "_________________________________________________________________\n",
            "Epoch 1/20\n",
            "413/413 [==============================] - 1s 1ms/step - loss: 0.7889 - val_loss: 0.5697\n",
            "Epoch 2/20\n",
            "413/413 [==============================] - 0s 997us/step - loss: 0.4948 - val_loss: 0.4864\n",
            "Epoch 3/20\n",
            "413/413 [==============================] - 0s 1ms/step - loss: 0.4412 - val_loss: 0.4687\n",
            "Epoch 4/20\n",
            "413/413 [==============================] - 0s 992us/step - loss: 0.4155 - val_loss: 0.4635\n",
            "Epoch 5/20\n",
            "413/413 [==============================] - 0s 1ms/step - loss: 0.4251 - val_loss: 0.4447\n",
            "Epoch 6/20\n",
            "413/413 [==============================] - 0s 1ms/step - loss: 0.3967 - val_loss: 0.4404\n",
            "Epoch 7/20\n",
            "413/413 [==============================] - 0s 1ms/step - loss: 0.3855 - val_loss: 0.4480\n",
            "Epoch 8/20\n",
            "413/413 [==============================] - 0s 1ms/step - loss: 0.3868 - val_loss: 0.4311\n",
            "Epoch 9/20\n",
            "413/413 [==============================] - 0s 1ms/step - loss: 0.3746 - val_loss: 0.4296\n",
            "Epoch 10/20\n",
            "413/413 [==============================] - 0s 1ms/step - loss: 0.3702 - val_loss: 0.4246\n",
            "Epoch 11/20\n",
            "413/413 [==============================] - 0s 1ms/step - loss: 0.3683 - val_loss: 0.4182\n",
            "Epoch 12/20\n",
            "413/413 [==============================] - 0s 1ms/step - loss: 0.3638 - val_loss: 0.4235\n",
            "Epoch 13/20\n",
            "413/413 [==============================] - 0s 1ms/step - loss: 0.3625 - val_loss: 0.4249\n",
            "Epoch 14/20\n",
            "413/413 [==============================] - 0s 1ms/step - loss: 0.3722 - val_loss: 0.4298\n",
            "Epoch 15/20\n",
            "413/413 [==============================] - 0s 1ms/step - loss: 0.3611 - val_loss: 0.4186\n",
            "Epoch 16/20\n",
            "413/413 [==============================] - 0s 1ms/step - loss: 0.3575 - val_loss: 0.4114\n",
            "Epoch 17/20\n",
            "413/413 [==============================] - 0s 1ms/step - loss: 0.3617 - val_loss: 0.4080\n",
            "Epoch 18/20\n",
            "413/413 [==============================] - 0s 995us/step - loss: 0.3554 - val_loss: 0.4161\n",
            "Epoch 19/20\n",
            "413/413 [==============================] - 0s 1ms/step - loss: 0.3508 - val_loss: 0.4258\n",
            "Epoch 20/20\n",
            "413/413 [==============================] - 0s 1ms/step - loss: 0.3560 - val_loss: 0.4226\n"
          ],
          "name": "stdout"
        }
      ]
    },
    {
      "cell_type": "code",
      "metadata": {
        "id": "n5URg6oMgXx5",
        "outputId": "9ff67bd8-379f-4f91-f538-6a783742b419",
        "colab": {
          "base_uri": "https://localhost:8080/",
          "height": 51
        }
      },
      "source": [
        "# Get the MSE loss on test set\n",
        "# Your code here\n",
        "model.evaluate(x_test,y_test)"
      ],
      "execution_count": 27,
      "outputs": [
        {
          "output_type": "stream",
          "text": [
            "129/129 [==============================] - 0s 1ms/step - loss: 0.4004\n"
          ],
          "name": "stdout"
        },
        {
          "output_type": "execute_result",
          "data": {
            "text/plain": [
              "0.4004483222961426"
            ]
          },
          "metadata": {
            "tags": []
          },
          "execution_count": 27
        }
      ]
    },
    {
      "cell_type": "code",
      "metadata": {
        "id": "-VMitBZYgXx7",
        "outputId": "49abd555-829b-46bd-dce9-79090998ba74",
        "colab": {
          "base_uri": "https://localhost:8080/",
          "height": 324
        }
      },
      "source": [
        "# Plot learning curve\n",
        "# Your code here\n",
        "\n",
        "ax = pd.DataFrame(history.history).plot(figsize=(8, 5))\n",
        "ax.set_ylim(0, 3)\n",
        "plt.show()\n"
      ],
      "execution_count": 29,
      "outputs": [
        {
          "output_type": "display_data",
          "data": {
            "image/png": "[encoded data removed]",
            "text/plain": [
              "<Figure size 576x360 with 1 Axes>"
            ]
          },
          "metadata": {
            "tags": []
          }
        }
      ]
    },
    {
      "cell_type": "markdown",
      "metadata": {
        "id": "UDfGbcz3gXx9"
      },
      "source": [
        "### Functional API"
      ]
    },
    {
      "cell_type": "markdown",
      "metadata": {
        "id": "xG6rvUBxgXx-"
      },
      "source": [
        "Implement the wide-deep architecture. Suppose we want to send five features through the wide path (feature 0 to 4), and six features through the deep path (features 2 to 7). And we want to add one more auxiliary output in the architecture. \n",
        "\n",
        "<img src=\"https://i.imgur.com/lQwcGmJ.png\" width=\"30%\" />"
      ]
    },
    {
      "cell_type": "code",
      "metadata": {
        "id": "bxuekWXFgXx-",
        "outputId": "efe24df1-d0ab-4299-cd21-136ef6050afd",
        "colab": {
          "base_uri": "https://localhost:8080/",
          "height": 697
        }
      },
      "source": [
        "# Get X_train_A, X_valid_A, X_test_A which contain the first 5 features\n",
        "# Get X_train_B, X_valid_B, X_test_B which contain the features 2 to 7\n",
        "# Get X_new_A, X_new_B which is the first 3 rows of X_test_A and X_test_B\n",
        "X_train_A, X_train_B = x_train[:, :5], x_train[:, 2:]\n",
        "X_valid_A, X_valid_B = x_valid[:, :5], x_valid[:, 2:]\n",
        "X_test_A, X_test_B = x_test[:, :5], x_test[:, 2:]\n",
        "X_new_A, X_new_B = X_test_A[:3], X_test_B[:3]\n",
        "\n",
        "# Functional API model\n",
        "# Your code here\n",
        "\n",
        "input_A = tf.keras.layers.Input(shape=[5], name=\"wide_input\")\n",
        "input_B = tf.keras.layers.Input(shape=[6], name=\"deep_input\")\n",
        "hidden1 = tf.keras.layers.Dense(30, activation=\"relu\")(input_B)\n",
        "hidden2 = tf.keras.layers.Dense(30, activation=\"relu\")(hidden1)\n",
        "concat = tf.keras.layers.concatenate([input_A, hidden2])\n",
        "output = tf.keras.layers.Dense(1, name=\"main_output\")(concat)\n",
        "aux_output = tf.keras.layers.Dense(1, name=\"aux_output\")(hidden2)\n",
        "model = tf.keras.Model(inputs=[input_A, input_B], outputs=[output, aux_output])\n",
        "\n",
        "# Compiling the model\n",
        "model.compile(loss=[\"mse\", \"mse\"], loss_weights=[0.9, 0.1], optimizer=tf.keras.optimizers.SGD(lr=1e-2))\n",
        "\n",
        "# Training the model\n",
        "history = model.fit([X_train_A, X_train_B], [y_train, y_train], epochs=20,\n",
        "                    validation_data=([X_valid_A, X_valid_B], [y_valid, y_valid]))\n"
      ],
      "execution_count": 31,
      "outputs": [
        {
          "output_type": "stream",
          "text": [
            "Epoch 1/20\n",
            "413/413 [==============================] - 1s 2ms/step - loss: 0.9802 - main_output_loss: 0.8698 - aux_output_loss: 1.9740 - val_loss: 0.6051 - val_main_output_loss: 0.5405 - val_aux_output_loss: 1.1864\n",
            "Epoch 2/20\n",
            "413/413 [==============================] - 1s 1ms/step - loss: 0.5508 - main_output_loss: 0.5004 - aux_output_loss: 1.0046 - val_loss: 0.5490 - val_main_output_loss: 0.5001 - val_aux_output_loss: 0.9890\n",
            "Epoch 3/20\n",
            "413/413 [==============================] - 1s 1ms/step - loss: 0.5273 - main_output_loss: 0.4916 - aux_output_loss: 0.8485 - val_loss: 0.5399 - val_main_output_loss: 0.4986 - val_aux_output_loss: 0.9120\n",
            "Epoch 4/20\n",
            "413/413 [==============================] - 1s 1ms/step - loss: 0.4919 - main_output_loss: 0.4593 - aux_output_loss: 0.7862 - val_loss: 0.5061 - val_main_output_loss: 0.4646 - val_aux_output_loss: 0.8802\n",
            "Epoch 5/20\n",
            "413/413 [==============================] - 1s 1ms/step - loss: 0.4498 - main_output_loss: 0.4160 - aux_output_loss: 0.7537 - val_loss: 0.4990 - val_main_output_loss: 0.4681 - val_aux_output_loss: 0.7768\n",
            "Epoch 6/20\n",
            "413/413 [==============================] - 1s 1ms/step - loss: 0.4319 - main_output_loss: 0.4080 - aux_output_loss: 0.6469 - val_loss: 0.4822 - val_main_output_loss: 0.4547 - val_aux_output_loss: 0.7295\n",
            "Epoch 7/20\n",
            "413/413 [==============================] - 1s 1ms/step - loss: 0.4187 - main_output_loss: 0.3979 - aux_output_loss: 0.6062 - val_loss: 0.4675 - val_main_output_loss: 0.4416 - val_aux_output_loss: 0.7008\n",
            "Epoch 8/20\n",
            "413/413 [==============================] - 1s 1ms/step - loss: 0.4099 - main_output_loss: 0.3911 - aux_output_loss: 0.5790 - val_loss: 0.4779 - val_main_output_loss: 0.4554 - val_aux_output_loss: 0.6797\n",
            "Epoch 9/20\n",
            "413/413 [==============================] - 1s 1ms/step - loss: 0.4045 - main_output_loss: 0.3876 - aux_output_loss: 0.5565 - val_loss: 0.4625 - val_main_output_loss: 0.4400 - val_aux_output_loss: 0.6655\n",
            "Epoch 10/20\n",
            "413/413 [==============================] - 1s 1ms/step - loss: 0.3931 - main_output_loss: 0.3769 - aux_output_loss: 0.5384 - val_loss: 0.4706 - val_main_output_loss: 0.4500 - val_aux_output_loss: 0.6568\n",
            "Epoch 11/20\n",
            "413/413 [==============================] - 1s 1ms/step - loss: 0.3879 - main_output_loss: 0.3728 - aux_output_loss: 0.5240 - val_loss: 0.4510 - val_main_output_loss: 0.4307 - val_aux_output_loss: 0.6333\n",
            "Epoch 12/20\n",
            "413/413 [==============================] - 1s 1ms/step - loss: 0.3803 - main_output_loss: 0.3660 - aux_output_loss: 0.5090 - val_loss: 0.4524 - val_main_output_loss: 0.4329 - val_aux_output_loss: 0.6277\n",
            "Epoch 13/20\n",
            "413/413 [==============================] - 1s 1ms/step - loss: 0.3807 - main_output_loss: 0.3673 - aux_output_loss: 0.5015 - val_loss: 0.4393 - val_main_output_loss: 0.4204 - val_aux_output_loss: 0.6100\n",
            "Epoch 14/20\n",
            "413/413 [==============================] - 1s 1ms/step - loss: 0.3695 - main_output_loss: 0.3562 - aux_output_loss: 0.4895 - val_loss: 0.4595 - val_main_output_loss: 0.4419 - val_aux_output_loss: 0.6187\n",
            "Epoch 15/20\n",
            "413/413 [==============================] - 1s 1ms/step - loss: 0.3664 - main_output_loss: 0.3535 - aux_output_loss: 0.4828 - val_loss: 0.4762 - val_main_output_loss: 0.4596 - val_aux_output_loss: 0.6251\n",
            "Epoch 16/20\n",
            "413/413 [==============================] - 1s 1ms/step - loss: 0.3789 - main_output_loss: 0.3678 - aux_output_loss: 0.4796 - val_loss: 0.4455 - val_main_output_loss: 0.4274 - val_aux_output_loss: 0.6084\n",
            "Epoch 17/20\n",
            "413/413 [==============================] - 1s 1ms/step - loss: 0.3662 - main_output_loss: 0.3546 - aux_output_loss: 0.4710 - val_loss: 0.4666 - val_main_output_loss: 0.4513 - val_aux_output_loss: 0.6044\n",
            "Epoch 18/20\n",
            "413/413 [==============================] - 1s 1ms/step - loss: 0.3618 - main_output_loss: 0.3506 - aux_output_loss: 0.4629 - val_loss: 0.4472 - val_main_output_loss: 0.4303 - val_aux_output_loss: 0.5988\n",
            "Epoch 19/20\n",
            "413/413 [==============================] - 1s 1ms/step - loss: 0.3565 - main_output_loss: 0.3453 - aux_output_loss: 0.4575 - val_loss: 0.4554 - val_main_output_loss: 0.4388 - val_aux_output_loss: 0.6045\n",
            "Epoch 20/20\n",
            "413/413 [==============================] - 1s 1ms/step - loss: 0.3518 - main_output_loss: 0.3405 - aux_output_loss: 0.4534 - val_loss: 0.4744 - val_main_output_loss: 0.4585 - val_aux_output_loss: 0.6176\n"
          ],
          "name": "stdout"
        }
      ]
    },
    {
      "cell_type": "code",
      "metadata": {
        "id": "ivIyOkXVgXyB",
        "outputId": "23022034-ad3b-4ca2-d8f2-5d9e7203d9b4",
        "colab": {
          "base_uri": "https://localhost:8080/",
          "height": 51
        }
      },
      "source": [
        "# Evaluating the model\n",
        "# Your code here\n",
        "total_loss, main_loss, aux_loss = model.evaluate([X_test_A, X_test_B], [y_test, y_test])\n",
        "total_loss, main_loss, aux_loss"
      ],
      "execution_count": 33,
      "outputs": [
        {
          "output_type": "stream",
          "text": [
            "129/129 [==============================] - 0s 1ms/step - loss: 0.4142 - main_output_loss: 0.4004 - aux_output_loss: 0.5384\n"
          ],
          "name": "stdout"
        },
        {
          "output_type": "execute_result",
          "data": {
            "text/plain": [
              "(0.41420796513557434, 0.4004060924053192, 0.5384257435798645)"
            ]
          },
          "metadata": {
            "tags": []
          },
          "execution_count": 33
        }
      ]
    },
    {
      "cell_type": "code",
      "metadata": {
        "id": "DP4KuhRNgXyE",
        "outputId": "2c038400-a114-4618-d35a-32a7e27a8b18",
        "colab": {
          "base_uri": "https://localhost:8080/",
          "height": 102
        }
      },
      "source": [
        "# Predicting\n",
        "# Your code here\n",
        "y_pred_main, y_pred_aux = model.predict([X_new_A, X_new_B])\n",
        "y_pred_main, y_pred_aux"
      ],
      "execution_count": 34,
      "outputs": [
        {
          "output_type": "execute_result",
          "data": {
            "text/plain": [
              "(array([[2.696436 ],\n",
              "        [1.0570691],\n",
              "        [1.9550399]], dtype=float32), array([[2.0214152],\n",
              "        [0.9452407],\n",
              "        [1.9925157]], dtype=float32))"
            ]
          },
          "metadata": {
            "tags": []
          },
          "execution_count": 34
        }
      ]
    },
    {
      "cell_type": "code",
      "metadata": {
        "id": "t3mkVFOjgXyG",
        "outputId": "440c7bfb-e9f5-4a8c-80ec-347d5397df73",
        "colab": {
          "base_uri": "https://localhost:8080/",
          "height": 324
        }
      },
      "source": [
        "# Plot learning curve\n",
        "# Your code here\n",
        "ax = pd.DataFrame(history.history).plot(figsize=(8, 5))\n",
        "ax.set_ylim(0, 3)\n",
        "plt.show()"
      ],
      "execution_count": 35,
      "outputs": [
        {
          "output_type": "display_data",
          "data": {
            "image/png": "[encoded data removed]",
            "text/plain": [
              "<Figure size 576x360 with 1 Axes>"
            ]
          },
          "metadata": {
            "tags": []
          }
        }
      ]
    },
    {
      "cell_type": "markdown",
      "metadata": {
        "id": "m24g1HaegXyI"
      },
      "source": [
        "### Subclassing API"
      ]
    },
    {
      "cell_type": "markdown",
      "metadata": {
        "id": "4OZ0Y-pYgXyI"
      },
      "source": [
        "Train the subclassing model (in the lecture)."
      ]
    },
    {
      "cell_type": "code",
      "metadata": {
        "id": "JlTOjwobgXyI",
        "outputId": "49f97d36-9783-4c51-9967-c105e68c17a9",
        "colab": {
          "base_uri": "https://localhost:8080/",
          "height": 697
        }
      },
      "source": [
        "class WideAndDeepModel(tf.keras.Model):\n",
        "   \n",
        "    def __init__(self, units=30, activation=\"relu\", **kwargs):\n",
        "        super().__init__(**kwargs) # handles standard args (e.g., name)\n",
        "        self.hidden1 = tf.keras.layers.Dense(units, activation=activation)\n",
        "        self.hidden2 = tf.keras.layers.Dense(units, activation=activation)\n",
        "        self.main_output = tf.keras.layers.Dense(1)\n",
        "        self.aux_output = tf.keras.layers.Dense(1)\n",
        "\n",
        "    def call(self, inputs):\n",
        "        input_A, input_B = inputs\n",
        "        hidden1 = self.hidden1(input_B)\n",
        "        hidden2 = self.hidden2(hidden1)\n",
        "        concat = tf.keras.layers.concatenate([input_A, hidden2])\n",
        "        main_output = self.main_output(concat)\n",
        "        aux_output = self.aux_output(hidden2)\n",
        "        return main_output, aux_output\n",
        "\n",
        "\n",
        "model = WideAndDeepModel()\n",
        "\n",
        "# Compiling the model\n",
        "model.compile(loss=[\"mse\", \"mse\"], loss_weights=[0.9, 0.1], optimizer=tf.keras.optimizers.SGD(lr=1e-2))\n",
        "\n",
        "# Training the model\n",
        "history = model.fit([X_train_A, X_train_B], [y_train, y_train], epochs=20,\n",
        "                    validation_data=([X_valid_A, X_valid_B], [y_valid, y_valid]))"
      ],
      "execution_count": 36,
      "outputs": [
        {
          "output_type": "stream",
          "text": [
            "Epoch 1/20\n",
            "413/413 [==============================] - 1s 2ms/step - loss: 1.0897 - output_1_loss: 0.9743 - output_2_loss: 2.1284 - val_loss: 0.6964 - val_output_1_loss: 0.6302 - val_output_2_loss: 1.2919\n",
            "Epoch 2/20\n",
            "413/413 [==============================] - 1s 1ms/step - loss: 0.6168 - output_1_loss: 0.5614 - output_2_loss: 1.1151 - val_loss: 0.5805 - val_output_1_loss: 0.5235 - val_output_2_loss: 1.0935\n",
            "Epoch 3/20\n",
            "413/413 [==============================] - 1s 1ms/step - loss: 0.5151 - output_1_loss: 0.4676 - output_2_loss: 0.9424 - val_loss: 0.5322 - val_output_1_loss: 0.4859 - val_output_2_loss: 0.9489\n",
            "Epoch 4/20\n",
            "413/413 [==============================] - 1s 1ms/step - loss: 0.4678 - output_1_loss: 0.4305 - output_2_loss: 0.8038 - val_loss: 0.5042 - val_output_1_loss: 0.4656 - val_output_2_loss: 0.8509\n",
            "Epoch 5/20\n",
            "413/413 [==============================] - 1s 1ms/step - loss: 0.4470 - output_1_loss: 0.4171 - output_2_loss: 0.7163 - val_loss: 0.4987 - val_output_1_loss: 0.4659 - val_output_2_loss: 0.7938\n",
            "Epoch 6/20\n",
            "413/413 [==============================] - 1s 1ms/step - loss: 0.4938 - output_1_loss: 0.4655 - output_2_loss: 0.7484 - val_loss: 0.5026 - val_output_1_loss: 0.4710 - val_output_2_loss: 0.7868\n",
            "Epoch 7/20\n",
            "413/413 [==============================] - 1s 1ms/step - loss: 0.4295 - output_1_loss: 0.4050 - output_2_loss: 0.6502 - val_loss: 0.4801 - val_output_1_loss: 0.4544 - val_output_2_loss: 0.7108\n",
            "Epoch 8/20\n",
            "413/413 [==============================] - 1s 1ms/step - loss: 0.4172 - output_1_loss: 0.3976 - output_2_loss: 0.5936 - val_loss: 0.4850 - val_output_1_loss: 0.4629 - val_output_2_loss: 0.6841\n",
            "Epoch 9/20\n",
            "413/413 [==============================] - 1s 1ms/step - loss: 0.3983 - output_1_loss: 0.3803 - output_2_loss: 0.5602 - val_loss: 0.4663 - val_output_1_loss: 0.4455 - val_output_2_loss: 0.6535\n",
            "Epoch 10/20\n",
            "413/413 [==============================] - 1s 1ms/step - loss: 0.3874 - output_1_loss: 0.3710 - output_2_loss: 0.5348 - val_loss: 0.4597 - val_output_1_loss: 0.4404 - val_output_2_loss: 0.6338\n",
            "Epoch 11/20\n",
            "413/413 [==============================] - 1s 1ms/step - loss: 0.3808 - output_1_loss: 0.3657 - output_2_loss: 0.5166 - val_loss: 0.4715 - val_output_1_loss: 0.4537 - val_output_2_loss: 0.6321\n",
            "Epoch 12/20\n",
            "413/413 [==============================] - 1s 1ms/step - loss: 0.3798 - output_1_loss: 0.3655 - output_2_loss: 0.5081 - val_loss: 0.4561 - val_output_1_loss: 0.4391 - val_output_2_loss: 0.6091\n",
            "Epoch 13/20\n",
            "413/413 [==============================] - 1s 1ms/step - loss: 0.3728 - output_1_loss: 0.3601 - output_2_loss: 0.4868 - val_loss: 0.4473 - val_output_1_loss: 0.4299 - val_output_2_loss: 0.6039\n",
            "Epoch 14/20\n",
            "413/413 [==============================] - 1s 1ms/step - loss: 0.3620 - output_1_loss: 0.3495 - output_2_loss: 0.4748 - val_loss: 0.4480 - val_output_1_loss: 0.4319 - val_output_2_loss: 0.5929\n",
            "Epoch 15/20\n",
            "413/413 [==============================] - 1s 1ms/step - loss: 0.3582 - output_1_loss: 0.3464 - output_2_loss: 0.4642 - val_loss: 0.4437 - val_output_1_loss: 0.4283 - val_output_2_loss: 0.5826\n",
            "Epoch 16/20\n",
            "413/413 [==============================] - 1s 1ms/step - loss: 0.3527 - output_1_loss: 0.3413 - output_2_loss: 0.4553 - val_loss: 0.4391 - val_output_1_loss: 0.4232 - val_output_2_loss: 0.5821\n",
            "Epoch 17/20\n",
            "413/413 [==============================] - 1s 1ms/step - loss: 0.3511 - output_1_loss: 0.3404 - output_2_loss: 0.4473 - val_loss: 0.4227 - val_output_1_loss: 0.4071 - val_output_2_loss: 0.5631\n",
            "Epoch 18/20\n",
            "413/413 [==============================] - 1s 1ms/step - loss: 0.3463 - output_1_loss: 0.3357 - output_2_loss: 0.4419 - val_loss: 0.4301 - val_output_1_loss: 0.4150 - val_output_2_loss: 0.5660\n",
            "Epoch 19/20\n",
            "413/413 [==============================] - 1s 1ms/step - loss: 0.3429 - output_1_loss: 0.3325 - output_2_loss: 0.4359 - val_loss: 0.4249 - val_output_1_loss: 0.4101 - val_output_2_loss: 0.5572\n",
            "Epoch 20/20\n",
            "413/413 [==============================] - 1s 1ms/step - loss: 0.3417 - output_1_loss: 0.3316 - output_2_loss: 0.4321 - val_loss: 0.4199 - val_output_1_loss: 0.4053 - val_output_2_loss: 0.5509\n"
          ],
          "name": "stdout"
        }
      ]
    },
    {
      "cell_type": "code",
      "metadata": {
        "id": "jUrNZcJRgXyL",
        "outputId": "ca9ba46c-fd87-4d4d-bc28-ae957343ff3b",
        "colab": {
          "base_uri": "https://localhost:8080/",
          "height": 51
        }
      },
      "source": [
        "# Evaluating the model\n",
        "# Your code here\n",
        "total_loss, main_loss, aux_loss = model.evaluate([X_test_A, X_test_B], [y_test, y_test])\n",
        "total_loss, main_loss, aux_loss\n",
        "\n"
      ],
      "execution_count": 37,
      "outputs": [
        {
          "output_type": "stream",
          "text": [
            "129/129 [==============================] - 0s 1ms/step - loss: 0.3799 - output_1_loss: 0.3682 - output_2_loss: 0.4850\n"
          ],
          "name": "stdout"
        },
        {
          "output_type": "execute_result",
          "data": {
            "text/plain": [
              "(0.37985959649086, 0.36817988753318787, 0.4849776327610016)"
            ]
          },
          "metadata": {
            "tags": []
          },
          "execution_count": 37
        }
      ]
    },
    {
      "cell_type": "code",
      "metadata": {
        "id": "-_7htUy_gXyP",
        "outputId": "5dc0029d-d61d-4105-87f2-ba609e0a35c5",
        "colab": {
          "base_uri": "https://localhost:8080/",
          "height": 102
        }
      },
      "source": [
        "# Predicting\n",
        "# Your code here\n",
        "y_pred_main, y_pred_aux = model.predict([X_new_A, X_new_B])\n",
        "y_pred_main, y_pred_aux\n"
      ],
      "execution_count": 38,
      "outputs": [
        {
          "output_type": "execute_result",
          "data": {
            "text/plain": [
              "(array([[3.0139108],\n",
              "        [1.309146 ],\n",
              "        [1.9048145]], dtype=float32), array([[2.1873727],\n",
              "        [1.1792185],\n",
              "        [1.8944123]], dtype=float32))"
            ]
          },
          "metadata": {
            "tags": []
          },
          "execution_count": 38
        }
      ]
    },
    {
      "cell_type": "code",
      "metadata": {
        "id": "1-pCmaVUgXyV",
        "outputId": "d319f0f5-db55-457b-f276-87ed07400c68",
        "colab": {
          "base_uri": "https://localhost:8080/",
          "height": 324
        }
      },
      "source": [
        "# Plot learning curve\n",
        "# Your code here\n",
        "ax = pd.DataFrame(history.history).plot(figsize=(8, 5))\n",
        "ax.set_ylim(0, 3)\n",
        "plt.show()"
      ],
      "execution_count": 39,
      "outputs": [
        {
          "output_type": "display_data",
          "data": {
            "image/png": "[encoded data removed]",
            "text/plain": [
              "<Figure size 576x360 with 1 Axes>"
            ]
          },
          "metadata": {
            "tags": []
          }
        }
      ]
    },
    {
      "cell_type": "code",
      "metadata": {
        "id": "CsOfcAAVgXyY"
      },
      "source": [
        ""
      ],
      "execution_count": null,
      "outputs": []
    },
    {
      "cell_type": "markdown",
      "metadata": {
        "id": "o2S1EvCXgXyb"
      },
      "source": [
        "**GOOD JOB!!**"
      ]
    }
  ]
}