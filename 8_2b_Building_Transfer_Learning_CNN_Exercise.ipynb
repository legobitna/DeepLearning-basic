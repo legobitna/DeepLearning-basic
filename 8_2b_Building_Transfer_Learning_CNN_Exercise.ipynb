{
  "nbformat": 4,
  "nbformat_minor": 0,
  "metadata": {
    "colab": {
      "name": "Copy of 8.2b_Building_Transfer_Learning_CNN_Exercise.ipynb",
      "provenance": [],
      "collapsed_sections": [],
      "include_colab_link": true
    },
    "kernelspec": {
      "name": "python3",
      "display_name": "Python 3"
    },
    "accelerator": "GPU",
    "widgets": {
      "application/vnd.jupyter.widget-state+json": {
        "3c2d8bf642934efdb53ca801bfe0bfe0": {
          "model_module": "@jupyter-widgets/controls",
          "model_name": "HBoxModel",
          "state": {
            "_view_name": "HBoxView",
            "_dom_classes": [],
            "_model_name": "HBoxModel",
            "_view_module": "@jupyter-widgets/controls",
            "_model_module_version": "1.5.0",
            "_view_count": null,
            "_view_module_version": "1.5.0",
            "box_style": "",
            "layout": "IPY_MODEL_62709e9407084f85b495514e906d6e11",
            "_model_module": "@jupyter-widgets/controls",
            "children": [
              "IPY_MODEL_7d83b54bb26f4fd395e95e1bce9963be",
              "IPY_MODEL_3eef877d22084971b822fbd0801c133e"
            ]
          }
        },
        "62709e9407084f85b495514e906d6e11": {
          "model_module": "@jupyter-widgets/base",
          "model_name": "LayoutModel",
          "state": {
            "_view_name": "LayoutView",
            "grid_template_rows": null,
            "right": null,
            "justify_content": null,
            "_view_module": "@jupyter-widgets/base",
            "overflow": null,
            "_model_module_version": "1.2.0",
            "_view_count": null,
            "flex_flow": null,
            "width": null,
            "min_width": null,
            "border": null,
            "align_items": null,
            "bottom": null,
            "_model_module": "@jupyter-widgets/base",
            "top": null,
            "grid_column": null,
            "overflow_y": null,
            "overflow_x": null,
            "grid_auto_flow": null,
            "grid_area": null,
            "grid_template_columns": null,
            "flex": null,
            "_model_name": "LayoutModel",
            "justify_items": null,
            "grid_row": null,
            "max_height": null,
            "align_content": null,
            "visibility": null,
            "align_self": null,
            "height": null,
            "min_height": null,
            "padding": null,
            "grid_auto_rows": null,
            "grid_gap": null,
            "max_width": null,
            "order": null,
            "_view_module_version": "1.2.0",
            "grid_template_areas": null,
            "object_position": null,
            "object_fit": null,
            "grid_auto_columns": null,
            "margin": null,
            "display": null,
            "left": null
          }
        },
        "7d83b54bb26f4fd395e95e1bce9963be": {
          "model_module": "@jupyter-widgets/controls",
          "model_name": "FloatProgressModel",
          "state": {
            "_view_name": "ProgressView",
            "style": "IPY_MODEL_ec0c37bf71b24c22860f7bee410524a0",
            "_dom_classes": [],
            "description": "Dl Completed...: 100%",
            "_model_name": "FloatProgressModel",
            "bar_style": "success",
            "max": 4,
            "_view_module": "@jupyter-widgets/controls",
            "_model_module_version": "1.5.0",
            "value": 4,
            "_view_count": null,
            "_view_module_version": "1.5.0",
            "orientation": "horizontal",
            "min": 0,
            "description_tooltip": null,
            "_model_module": "@jupyter-widgets/controls",
            "layout": "IPY_MODEL_1c61be0392404999814771573d8a5116"
          }
        },
        "3eef877d22084971b822fbd0801c133e": {
          "model_module": "@jupyter-widgets/controls",
          "model_name": "HTMLModel",
          "state": {
            "_view_name": "HTMLView",
            "style": "IPY_MODEL_b44127d5d8a546bb80801c6801e66855",
            "_dom_classes": [],
            "description": "",
            "_model_name": "HTMLModel",
            "placeholder": "​",
            "_view_module": "@jupyter-widgets/controls",
            "_model_module_version": "1.5.0",
            "value": " 4/4 [00:06&lt;00:00,  1.59s/ file]",
            "_view_count": null,
            "_view_module_version": "1.5.0",
            "description_tooltip": null,
            "_model_module": "@jupyter-widgets/controls",
            "layout": "IPY_MODEL_08074b5d31a3466aaeca899f5fc1bafe"
          }
        },
        "ec0c37bf71b24c22860f7bee410524a0": {
          "model_module": "@jupyter-widgets/controls",
          "model_name": "ProgressStyleModel",
          "state": {
            "_view_name": "StyleView",
            "_model_name": "ProgressStyleModel",
            "description_width": "initial",
            "_view_module": "@jupyter-widgets/base",
            "_model_module_version": "1.5.0",
            "_view_count": null,
            "_view_module_version": "1.2.0",
            "bar_color": null,
            "_model_module": "@jupyter-widgets/controls"
          }
        },
        "1c61be0392404999814771573d8a5116": {
          "model_module": "@jupyter-widgets/base",
          "model_name": "LayoutModel",
          "state": {
            "_view_name": "LayoutView",
            "grid_template_rows": null,
            "right": null,
            "justify_content": null,
            "_view_module": "@jupyter-widgets/base",
            "overflow": null,
            "_model_module_version": "1.2.0",
            "_view_count": null,
            "flex_flow": null,
            "width": null,
            "min_width": null,
            "border": null,
            "align_items": null,
            "bottom": null,
            "_model_module": "@jupyter-widgets/base",
            "top": null,
            "grid_column": null,
            "overflow_y": null,
            "overflow_x": null,
            "grid_auto_flow": null,
            "grid_area": null,
            "grid_template_columns": null,
            "flex": null,
            "_model_name": "LayoutModel",
            "justify_items": null,
            "grid_row": null,
            "max_height": null,
            "align_content": null,
            "visibility": null,
            "align_self": null,
            "height": null,
            "min_height": null,
            "padding": null,
            "grid_auto_rows": null,
            "grid_gap": null,
            "max_width": null,
            "order": null,
            "_view_module_version": "1.2.0",
            "grid_template_areas": null,
            "object_position": null,
            "object_fit": null,
            "grid_auto_columns": null,
            "margin": null,
            "display": null,
            "left": null
          }
        },
        "b44127d5d8a546bb80801c6801e66855": {
          "model_module": "@jupyter-widgets/controls",
          "model_name": "DescriptionStyleModel",
          "state": {
            "_view_name": "StyleView",
            "_model_name": "DescriptionStyleModel",
            "description_width": "",
            "_view_module": "@jupyter-widgets/base",
            "_model_module_version": "1.5.0",
            "_view_count": null,
            "_view_module_version": "1.2.0",
            "_model_module": "@jupyter-widgets/controls"
          }
        },
        "08074b5d31a3466aaeca899f5fc1bafe": {
          "model_module": "@jupyter-widgets/base",
          "model_name": "LayoutModel",
          "state": {
            "_view_name": "LayoutView",
            "grid_template_rows": null,
            "right": null,
            "justify_content": null,
            "_view_module": "@jupyter-widgets/base",
            "overflow": null,
            "_model_module_version": "1.2.0",
            "_view_count": null,
            "flex_flow": null,
            "width": null,
            "min_width": null,
            "border": null,
            "align_items": null,
            "bottom": null,
            "_model_module": "@jupyter-widgets/base",
            "top": null,
            "grid_column": null,
            "overflow_y": null,
            "overflow_x": null,
            "grid_auto_flow": null,
            "grid_area": null,
            "grid_template_columns": null,
            "flex": null,
            "_model_name": "LayoutModel",
            "justify_items": null,
            "grid_row": null,
            "max_height": null,
            "align_content": null,
            "visibility": null,
            "align_self": null,
            "height": null,
            "min_height": null,
            "padding": null,
            "grid_auto_rows": null,
            "grid_gap": null,
            "max_width": null,
            "order": null,
            "_view_module_version": "1.2.0",
            "grid_template_areas": null,
            "object_position": null,
            "object_fit": null,
            "grid_auto_columns": null,
            "margin": null,
            "display": null,
            "left": null
          }
        }
      }
    }
  },
  "cells": [
    {
      "cell_type": "markdown",
      "metadata": {
        "id": "view-in-github",
        "colab_type": "text"
      },
      "source": [
        "<a href=\"https://colab.research.google.com/github/legobitna/DeepLearning-basic/blob/main/8_2b_Building_Transfer_Learning_CNN_Exercise.ipynb\" target=\"_parent\"><img src=\"https://colab.research.google.com/assets/colab-badge.svg\" alt=\"Open In Colab\"/></a>"
      ]
    },
    {
      "cell_type": "markdown",
      "metadata": {
        "id": "dKUIp-U7zTc4"
      },
      "source": [
        "# Intro to Convolutional Neural Networks\n",
        "\n",
        "CNNs are very similiar to Neural Networks: they are made up of neurons that have learnable weights and biases. And they still have a loss function on the last (fully-connected) layer and all the tips/tricks we developed for learning regular Neural Networks still apply.\n",
        "\n",
        "So what changes? **CNN architectures make the explicit assumption that the inputs are images**."
      ]
    },
    {
      "cell_type": "markdown",
      "metadata": {
        "id": "rMjrc9kS0yAI"
      },
      "source": [
        "## Architecture Overview\n",
        "\n",
        "![3-layer Neural Network](http://cs231n.github.io/assets/nn1/neural_net2.jpeg)\n",
        "\n",
        "**Regular Neural Nets don't scale well to full images**. If the input images have the size 32x32x3 (32 wide, 32 high, 3 color channels), so a single neuron in a first hidden layer would have `32*32*3 = 3072` weights. How about 200x200x3 or larger? Clearly, this is wasteful and the huge number of parameters would quickly lead to overfitting.\n",
        "\n",
        "![](http://cs231n.github.io/assets/cnn/cnn.jpeg)\n",
        "\n",
        "**3D volumns of neurons**. CNN arranges its neurons in three dimensions (width, height, depth). Every layer of a CNN transforms the 3D input volumn to a 3D output volumn of neuron activations.\n",
        "\n",
        "![alt text](https://codelabs.developers.google.com/codelabs/cloud-tensorflow-mnist/img/ca8f34f3d28ea528.gif)\n",
        "\n",
        "**Example Architecture**: Overview. We will go into more details below, but a simple ConvNet classification could have the architecture `[INPUT - CONV - RELU - POOL - FC]`. In more detail:\n",
        "\n",
        "* INPUT `[32x32x3]` will hold the raw pixel values of the image, in this case an image of width 32, height 32, and with three color channels R,G,B.\n",
        "* CONV layer will compute the output of neurons that are connected to local regions in the input, each computing a dot product between their weights and a small region they are connected to in the input volume. This may result in volume such as [32x32x12] if we decided to use 12 filters (or kernel_size=12).\n",
        "* RELU layer will apply an elementwise activation function, such as the max(0,x) thresholding at zero. This leaves the size of the volume unchanged ([32x32x12]).\n",
        "* POOL layer will perform a downsampling operation along the spatial dimensions (width, height), resulting in volume such as [16x16x12].\n",
        "* FC (i.e. fully-connected) layer will compute the class scores, resulting in volume of size [1x1x10], where each of the 10 numbers correspond to a class score, such as among the 10 categories of CIFAR-10. As with ordinary Neural Networks and as the name implies, each neuron in this layer will be connected to all the numbers in the previous volume.\n",
        "\n",
        "![](http://cs231n.github.io/assets/cnn/convnet.jpeg)"
      ]
    },
    {
      "cell_type": "markdown",
      "metadata": {
        "id": "KcgWzO-xIVIT"
      },
      "source": [
        "## Type of layers\n",
        "\n",
        "There are a few distinct types of Layers (e.g. CONV/FC/RELU/POOL are by far the most popular). Each Layer accepts an input 3D volume and transforms it to an output 3D volume through a differentiable function. Each Layer may or may not have parameters (e.g. CONV/FC do, RELU/POOL don’t)."
      ]
    },
    {
      "cell_type": "markdown",
      "metadata": {
        "id": "R4Un5NVQJdJs"
      },
      "source": [
        "### Convolutional Layer\n",
        "\n",
        "The Conv layer is the core building block of a Convolutional Network that does most of the computational heavy lifting.\n",
        "\n",
        "|![alt text](http://cs231n.github.io/assets/cnn/depthcol.jpeg) | ![alt text](http://cs231n.github.io/assets/nn1/neuron_model.jpeg) |\n",
        "|-|-|\n",
        "\n",
        "Left: An example input volume in red (e.g. a 32x32x3 image), and an example volume of neurons in the first Convolutional layer. Each neuron in the convolutional layer is connected only to a local region in the input volume spatially, but to the full depth (i.e. all color channels). Note, there are multiple neurons (5 in this example) along the depth, all looking at the same region in the input. Right: The neurons from the Neural Network chapter remain unchanged: They still compute a dot product of their weights with the input followed by a non-linearity, but their connectivity is now restricted to be local spatially.\n",
        "\n",
        "If the receptive field (or the filter size) is 5x5, then each neuron in the Conv Layer will have weights to a [5x5x3] region in the input volume, for a total of 5*5*3 = 75 weights (and +1 bias parameter). Notice that the extent of the connectivity along the depth axis must be 3, since this is the depth of the input volume.\n",
        "\n"
      ]
    },
    {
      "cell_type": "markdown",
      "metadata": {
        "id": "05DJZpISWaYJ"
      },
      "source": [
        "#### Depth, Stride and Zero-padding\n",
        "\n",
        "First, the **depth** of the output volume is a hyperparameter: it corresponds to the number of filters we would like to use.\n",
        "\n",
        "Second, we must specify the **stride** with which we slide the filter. When the stride is 1 then we move the filters one pixel at a time. When the stride is 2 (or uncommonly 3 or more, though this is rare in practice) then the filters jump 2 pixels at a time as we slide them around. This will produce smaller output volumes spatially.\n",
        "\n",
        "Sometimes it will be convenient to pad the input volume with zeros around the border. The size of this **zero-padding** is a hyperparameter."
      ]
    },
    {
      "cell_type": "markdown",
      "metadata": {
        "id": "BJOrdG8VXaIB"
      },
      "source": [
        "**Real-world example**: The [Krizhevsky et al.](http://papers.nips.cc/paper/4824-imagenet-classification-with-deep-convolutional-neural-networks) architecture that won the ImageNet challenge in 2012 accepted images of size `[227x227x3]`. On the first Convolutional Layer, it used neurons with receptive field size `F=11`, stride `S=4` and no zero padding `P=0`. Since `(227 - 11)/4 + 1 = 55`, and since the Conv layer had a depth of `K=96`, the Conv layer output volume had size `[55x55x96]`. Each of the `55*55*96` neurons in this volume was connected to a region of size `[11x11x3]` in the input volume. Moreover, all 96 neurons in each depth column are connected to the same `[11x11x3]` region of the input, but of course with different weights. As a fun aside, if you read the actual paper it claims that the input images were `224x224`, which is surely incorrect because `(224 - 11)/4 + 1` is quite clearly not an integer. This has confused many people in the history of ConvNets and little is known about what happened. The best guess is that Alex used zero-padding of 3 extra pixels that he does not mention in the paper."
      ]
    },
    {
      "cell_type": "markdown",
      "metadata": {
        "id": "YMCx5hUQa0M8"
      },
      "source": [
        "#### Conv Layer Summary\n",
        "\n",
        "To summarize, the Conv Layer:\n",
        "\n",
        "* Accepts a volume of size  $W_1×H_1×D_1$\n",
        "* Requires four hyperparameters:\n",
        "    * Number of filters $K$,\n",
        "    * their filter size $F$,\n",
        "    * the stride $S$,\n",
        "    * the amount of zero padding $P$.\n",
        "* Produces a volumn of size $W_2×H_2×D_2$ where:\n",
        "    * $W_2=(W_1−F+2P)/S+1$\n",
        "    * $H_2=(H_1−F+2P)/S+1$ (i.e. width and height are computed equally by symmetry)\n",
        "    * $D_2=K$\n",
        "* It introduces $F⋅F⋅D_1$ weights per filter, for a total of $(F⋅F⋅D_1)⋅K$ weights and $K$ biases.\n",
        "* In the output volume, the $d$-th depth slice (of size $W_2×H_2$) is the result of performing a valid convolution of the $d$-th filter over the input volume with a stride of $S$, and then offset by $d$-th bias."
      ]
    },
    {
      "cell_type": "markdown",
      "metadata": {
        "id": "EtHUw-0tcoeJ"
      },
      "source": [
        "### Pooling layers\n",
        "\n",
        "The Pooling Layer operates independently on every depth slice of the input and resizes it spatially, using the MAX operation. The most common form is a pooling layer with filters of size 2x2 applied with a stride of 2 downsamples every depth slice in the input by 2 along both width and height, discarding 75% of the activations. Every MAX operation would in this case be taking a max over 4 numbers (little 2x2 region in some depth slice). The depth dimension remains unchanged. More generally, the pooling layer:\n",
        "\n",
        "* Accepts a volume of size  $W_1×H_1×D_1$\n",
        "* Requires four hyperparameters:\n",
        "    * the filter size $F$,\n",
        "    * the stride $S$,\n",
        "* Produces a volumn of size $W_2×H_2×D_2$ where:\n",
        "    * $W_2=(W_1−F)/S+1$\n",
        "    * $H_2=(H_1−F)/S+1$ \n",
        "    * $D_2=D_1$\n",
        "* Introduces zero parameters since it computes a fixed function of the input\n",
        "* For Pooling layers, it is not common to pad the input using zero-padding\n",
        "\n",
        "It is worth noting that there are only two commonly seen variations of the max pooling layer found in practice: A pooling layer with $F=3,S=2$ (also called overlapping pooling), and more commonly $F=2,S=2$. Pooling sizes with larger receptive fields are too destructive.\n",
        "\n",
        "In addition to max pooling, the pooling units can also perform other functions, such as average pooling or even L2-norm pooling. Average pooling was often used historically but has recently fallen out of favor compared to the max pooling operation, which has been shown to work better in practice.\n",
        "\n",
        "| ![alt text](http://cs231n.github.io/assets/cnn/pool.jpeg) | ![alt text](http://cs231n.github.io/assets/cnn/maxpool.jpeg) |\n",
        "|-|-|"
      ]
    },
    {
      "cell_type": "markdown",
      "metadata": {
        "id": "zNDPOLkvetPC"
      },
      "source": [
        "### The final layer\n",
        "\n",
        "After the last convolutional layer, the data is in the form of a \"cube\". There are two ways of feeding it through the final dense layer.\n",
        "\n",
        "The first one is to flatten the cube of data into a vector and then feed it to the softmax layer. Sometimes, you can even add a dense layer before the softmax layer. This tends to be expensive in terms of the number of weights. A dense layer at the end of a convolutional network can contain more than half the weights of the whole neural network.\n",
        "\n",
        "![alt text](https://codelabs.developers.google.com/codelabs/cloud-tensorflow-mnist/img/a44aa392c7b0e32a.png)\n",
        "\n",
        "Instead of using an expensive dense layer, we can also split the incoming data \"cube\" into as many parts as we have classes, average their values and feed these through a softmax activation function. This way of building the classification head costs 0 weights. In Keras, there is a layer for this: `tf.keras.layers.GlobalAveragePooling2D()`."
      ]
    },
    {
      "cell_type": "markdown",
      "metadata": {
        "id": "JntrKXFMfUCh"
      },
      "source": [
        "### Layer Pattern\n",
        "\n",
        "![alt text](https://codelabs.developers.google.com/codelabs/cloud-tensorflow-mnist/img/e1a214a170957da1.png)\n",
        "\n",
        "The most common form of a ConvNet architecture stacks a few CONV-RELU layers, follows them with POOL layers, and repeats this pattern until the image has been merged spatially to a small size. At some point, it is common to transition to fully-connected layers. The last fully-connected layer holds the output, such as the class scores. In other words, the most common ConvNet architecture follows the pattern:\n",
        "\n",
        "```\n",
        "INPUT -> [[CONV -> RELU]*N -> POOL?]*M -> [FC -> RELU]*K -> FC\n",
        "```\n"
      ]
    },
    {
      "cell_type": "markdown",
      "metadata": {
        "id": "ABassfzTgM1o"
      },
      "source": [
        "> The padding parameter in convolutional layers can have two values:\n",
        ">\n",
        "> * \"same\": pad with zeros so as to produce outputs of the same width/height as the input\n",
        "> * \"valid\": no padding, only use real pixels"
      ]
    },
    {
      "cell_type": "markdown",
      "metadata": {
        "id": "xutZgH1Kgcze"
      },
      "source": [
        "## CNN Architectures\n",
        "\n",
        "There are several architectures in the field of Convolutional Networks that have a name. The most common are:\n",
        "\n",
        "* **LeNet.** The first successful applications of Convolutional Networks were developed by Yann LeCun in 1990’s. Of these, the best known is the [LeNet](http://yann.lecun.com/exdb/publis/pdf/lecun-98.pdf) architecture that was used to read zip codes, digits, etc.\n",
        "\n",
        "* **AlexNet.** The first work that popularized Convolutional Networks in Computer Vision was the [AlexNet](http://papers.nips.cc/paper/4824-imagenet-classification-with-deep-convolutional-neural-networks), developed by Alex Krizhevsky, Ilya Sutskever and Geoff Hinton. The AlexNet was submitted to the [ImageNet ILSVRC challenge](http://www.image-net.org/challenges/LSVRC/2014/) in 2012 and significantly outperformed the second runner-up (top 5 error of 16% compared to runner-up with 26% error). The Network had a very similar architecture to LeNet, but was deeper, bigger, and featured Convolutional Layers stacked on top of each other (previously it was common to only have a single CONV layer always immediately followed by a POOL layer).\n",
        "\n",
        "* **ZF Net**. The ILSVRC 2013 winner was a Convolutional Network from Matthew Zeiler and Rob Fergus. It became known as the [ZFNet](http://arxiv.org/abs/1311.2901) (short for Zeiler & Fergus Net). It was an improvement on AlexNet by tweaking the architecture hyperparameters, in particular by expanding the size of the middle convolutional layers and making the stride and filter size on the first layer smaller.\n",
        "\n",
        "* **GoogLeNet**. The ILSVRC 2014 winner was a Convolutional Network from [Szegedy et al.](http://arxiv.org/abs/1409.4842) from Google. Its main contribution was the development of an Inception Module that dramatically reduced the number of parameters in the network (4M, compared to AlexNet with 60M). Additionally, this paper uses Average Pooling instead of Fully Connected layers at the top of the ConvNet, eliminating a large amount of parameters that do not seem to matter much. There are also several followup versions to the GoogLeNet, most recently [Inception-v4](http://arxiv.org/abs/1602.07261).\n",
        "\n",
        "* **VGGNet**. The runner-up in ILSVRC 2014 was the network from Karen Simonyan and Andrew Zisserman that became known as the [VGGNet](http://www.robots.ox.ac.uk/~vgg/research/very_deep/). Its main contribution was in showing that the depth of the network is a critical component for good performance. Their final best network contains 16 CONV/FC layers and, appealingly, features an extremely homogeneous architecture that only performs 3x3 convolutions and 2x2 pooling from the beginning to the end. A downside of the VGGNet is that it is more expensive to evaluate and uses a lot more memory and parameters (140M). Most of these parameters are in the first fully connected layer, and it was since found that these FC layers can be removed with no performance downgrade, significantly reducing the number of necessary parameters.\n",
        "\n",
        "* **ResNet**. [Residual Network](http://arxiv.org/abs/1512.03385) developed by Kaiming He et al. was the winner of ILSVRC 2015. It features special skip connections and a heavy use of batch normalization. The architecture is also missing fully connected layers at the end of the network. ResNets are currently by far state of the art Convolutional Neural Network models and are the default choice for using ConvNets in practice (as of May 10, 2016)."
      ]
    },
    {
      "cell_type": "markdown",
      "metadata": {
        "id": "zutpbWYRjJY9"
      },
      "source": [
        "### Practice\n",
        "\n"
      ]
    },
    {
      "cell_type": "code",
      "metadata": {
        "id": "FKAtU1V9rLrG",
        "outputId": "34cc5baa-75b8-447e-a098-93090727c03a",
        "colab": {
          "base_uri": "https://localhost:8080/"
        }
      },
      "source": [
        "from __future__ import absolute_import, division, print_function, unicode_literals\n",
        "\n",
        "# Install TensorFlow\n",
        "try:\n",
        "  # %tensorflow_version only exists in Colab.\n",
        "  %tensorflow_version 2.x\n",
        "except Exception:\n",
        "  pass\n",
        "\n",
        "import tensorflow as tf\n",
        "import matplotlib.pyplot as plt\n",
        "import numpy as np\n",
        "\n",
        "print(tf.__version__)"
      ],
      "execution_count": 1,
      "outputs": [
        {
          "output_type": "stream",
          "text": [
            "2.3.0\n"
          ],
          "name": "stdout"
        }
      ]
    },
    {
      "cell_type": "markdown",
      "metadata": {
        "id": "bN4ECaTpoQ3d"
      },
      "source": [
        "**TensorFlow Datasets**"
      ]
    },
    {
      "cell_type": "code",
      "metadata": {
        "id": "Vr0dym2_JpiL",
        "outputId": "991b2271-7121-4891-b01c-220fc30a7917",
        "colab": {
          "base_uri": "https://localhost:8080/",
          "height": 202,
          "referenced_widgets": [
            "3c2d8bf642934efdb53ca801bfe0bfe0",
            "62709e9407084f85b495514e906d6e11",
            "7d83b54bb26f4fd395e95e1bce9963be",
            "3eef877d22084971b822fbd0801c133e",
            "ec0c37bf71b24c22860f7bee410524a0",
            "1c61be0392404999814771573d8a5116",
            "b44127d5d8a546bb80801c6801e66855",
            "08074b5d31a3466aaeca899f5fc1bafe"
          ]
        }
      },
      "source": [
        "import tensorflow_datasets as tfds\n",
        "\n",
        "mnist = tfds.image.MNIST()\n",
        "\n",
        "# Describe the dataset with DatasetInfo\n",
        "assert mnist.info.features['image'].shape == (28, 28, 1)\n",
        "assert mnist.info.features['label'].num_classes == 10\n",
        "assert mnist.info.splits['train'].num_examples == 60000\n",
        "assert mnist.info.splits['test'].num_examples == 10000\n",
        "\n",
        "# Download the data, prepare it, and write it to disk\n",
        "mnist.download_and_prepare()\n",
        "\n",
        "# Load data from disk as tf.data.Datasets\n",
        "datasets = mnist.as_dataset()\n",
        "train_dataset, test_dataset = datasets['train'], datasets['test']\n",
        "assert isinstance(train_dataset, tf.data.Dataset)"
      ],
      "execution_count": 2,
      "outputs": [
        {
          "output_type": "stream",
          "text": [
            "\u001b[1mDownloading and preparing dataset mnist/3.0.1 (download: 11.06 MiB, generated: 21.00 MiB, total: 32.06 MiB) to /root/tensorflow_datasets/mnist/3.0.1...\u001b[0m\n"
          ],
          "name": "stdout"
        },
        {
          "output_type": "stream",
          "text": [
            "WARNING:absl:Dataset mnist is hosted on GCS. It will automatically be downloaded to your\n",
            "local data directory. If you'd instead prefer to read directly from our public\n",
            "GCS bucket (recommended if you're running on GCP), you can instead pass\n",
            "`try_gcs=True` to `tfds.load` or set `data_dir=gs://tfds-data/datasets`.\n",
            "\n"
          ],
          "name": "stderr"
        },
        {
          "output_type": "display_data",
          "data": {
            "application/vnd.jupyter.widget-view+json": {
              "model_id": "3c2d8bf642934efdb53ca801bfe0bfe0",
              "version_minor": 0,
              "version_major": 2
            },
            "text/plain": [
              "HBox(children=(FloatProgress(value=0.0, description='Dl Completed...', max=4.0, style=ProgressStyle(descriptio…"
            ]
          },
          "metadata": {
            "tags": []
          }
        },
        {
          "output_type": "stream",
          "text": [
            "\n",
            "\n",
            "\u001b[1mDataset mnist downloaded and prepared to /root/tensorflow_datasets/mnist/3.0.1. Subsequent calls will reuse this data.\u001b[0m\n"
          ],
          "name": "stdout"
        }
      ]
    },
    {
      "cell_type": "code",
      "metadata": {
        "id": "qdl4WwdJrVfP",
        "outputId": "39a295e5-a627-4d18-8fed-fe6129ab0713",
        "colab": {
          "base_uri": "https://localhost:8080/"
        }
      },
      "source": [
        "train_dataset.element_spec"
      ],
      "execution_count": 3,
      "outputs": [
        {
          "output_type": "execute_result",
          "data": {
            "text/plain": [
              "{'image': TensorSpec(shape=(28, 28, 1), dtype=tf.uint8, name=None),\n",
              " 'label': TensorSpec(shape=(), dtype=tf.int64, name=None)}"
            ]
          },
          "metadata": {
            "tags": []
          },
          "execution_count": 3
        }
      ]
    },
    {
      "cell_type": "code",
      "metadata": {
        "id": "izAuVTOGraKj",
        "outputId": "d0be5f5e-e1cc-404b-99d2-d546b66ce13b",
        "colab": {
          "base_uri": "https://localhost:8080/"
        }
      },
      "source": [
        "info = mnist.info\n",
        "print(info)"
      ],
      "execution_count": 4,
      "outputs": [
        {
          "output_type": "stream",
          "text": [
            "tfds.core.DatasetInfo(\n",
            "    name='mnist',\n",
            "    version=3.0.1,\n",
            "    description='The MNIST database of handwritten digits.',\n",
            "    homepage='http://yann.lecun.com/exdb/mnist/',\n",
            "    features=FeaturesDict({\n",
            "        'image': Image(shape=(28, 28, 1), dtype=tf.uint8),\n",
            "        'label': ClassLabel(shape=(), dtype=tf.int64, num_classes=10),\n",
            "    }),\n",
            "    total_num_examples=70000,\n",
            "    splits={\n",
            "        'test': 10000,\n",
            "        'train': 60000,\n",
            "    },\n",
            "    supervised_keys=('image', 'label'),\n",
            "    citation=\"\"\"@article{lecun2010mnist,\n",
            "      title={MNIST handwritten digit database},\n",
            "      author={LeCun, Yann and Cortes, Corinna and Burges, CJ},\n",
            "      journal={ATT Labs [Online]. Available: http://yann.lecun.com/exdb/mnist},\n",
            "      volume={2},\n",
            "      year={2010}\n",
            "    }\"\"\",\n",
            "    redistribution_info=,\n",
            ")\n",
            "\n"
          ],
          "name": "stdout"
        }
      ]
    },
    {
      "cell_type": "code",
      "metadata": {
        "id": "5mBfCp6zrdlH",
        "outputId": "adafc76b-ae24-4eee-ee48-0261ce6f3ee1",
        "colab": {
          "base_uri": "https://localhost:8080/",
          "height": 1000
        }
      },
      "source": [
        "tfds.show_examples(info, test_dataset)"
      ],
      "execution_count": 5,
      "outputs": [
        {
          "output_type": "stream",
          "text": [
            "WARNING: For consistency with `tfds.load`, the `tfds.show_examples` signature has been modified from (info, ds) to (ds, info).\n",
            "The old signature is deprecated and will be removed. Please change your call to `tfds.show_examples(ds, info)`\n"
          ],
          "name": "stdout"
        },
        {
          "output_type": "display_data",
          "data": {
            "image/png": "[encoded data removed]",
            "text/plain": [
              "<Figure size 648x648 with 9 Axes>"
            ]
          },
          "metadata": {
            "tags": []
          }
        },
        {
          "output_type": "execute_result",
          "data": {
            "image/png": "[encoded data removed]",
            "text/plain": [
              "<Figure size 648x648 with 9 Axes>"
            ]
          },
          "metadata": {
            "tags": []
          },
          "execution_count": 5
        }
      ]
    },
    {
      "cell_type": "code",
      "metadata": {
        "id": "2DEL_yAirhZm",
        "outputId": "25a94c50-bc2d-4f41-f566-a83f671d1d28",
        "colab": {
          "base_uri": "https://localhost:8080/",
          "height": 282
        }
      },
      "source": [
        "for mnist_example in train_dataset.take(1):  # Only take a single example\n",
        "    image, label = mnist_example[\"image\"], mnist_example[\"label\"]\n",
        "\n",
        "    plt.imshow(image.numpy()[:, :, 0].astype(np.float32), cmap=plt.get_cmap(\"gray\"))\n",
        "    print(\"Label: %d\" % label.numpy())"
      ],
      "execution_count": 6,
      "outputs": [
        {
          "output_type": "stream",
          "text": [
            "Label: 4\n"
          ],
          "name": "stdout"
        },
        {
          "output_type": "display_data",
          "data": {
            "image/png": "[encoded data removed]",
            "text/plain": [
              "<Figure size 432x288 with 1 Axes>"
            ]
          },
          "metadata": {
            "tags": [],
            "needs_background": "light"
          }
        }
      ]
    },
    {
      "cell_type": "code",
      "metadata": {
        "id": "YMooC8y3rptU"
      },
      "source": [
        "BATCH_SIZE = 128\n",
        "NUM_EXAMPLES = 60000\n",
        "NUM_TESTING = 10000\n",
        "\n",
        "def preprocess(ds):\n",
        "    x = tf.cast(ds['image'], tf.float32) / 255.0\n",
        "    return x, ds['label']\n",
        "\n",
        "train_dataset = train_dataset.map(preprocess).cache().repeat().shuffle(1024).batch(BATCH_SIZE)\n",
        "train_dataset = train_dataset.prefetch(tf.data.experimental.AUTOTUNE)\n",
        "test_dataset = test_dataset.map(preprocess).batch(BATCH_SIZE).prefetch(tf.data.experimental.AUTOTUNE)"
      ],
      "execution_count": 7,
      "outputs": []
    },
    {
      "cell_type": "markdown",
      "metadata": {
        "id": "rM6jbMiADYuA"
      },
      "source": [
        "## Build simple fully connected layers (dense with dropout)"
      ]
    },
    {
      "cell_type": "markdown",
      "metadata": {
        "id": "2h0qP2gM40xk"
      },
      "source": [
        "```\n",
        "Model: \"Your simple DNN\"\n",
        "_________________________________________________________________\n",
        "Layer (type)                 Output Shape              Param #   \n",
        "=================================================================\n",
        "flatten_3 (Flatten)          (None, 784)               0         \n",
        "_________________________________________________________________\n",
        "dense_7 (Dense)              (None, 128)               100480    \n",
        "_________________________________________________________________\n",
        "dropout_5 (Dropout)          (None, 128)               0         \n",
        "_________________________________________________________________\n",
        "dense_8 (Dense)              (None, 64)                8256      \n",
        "_________________________________________________________________\n",
        "dense_9 (Dense)              (None, 10)                650       \n",
        "=================================================================\n",
        "Total params: 109,386\n",
        "Trainable params: 109,386\n",
        "Non-trainable params: 0\n",
        "_________________________________________________________________\n",
        "```"
      ]
    },
    {
      "cell_type": "code",
      "metadata": {
        "id": "mFA6tiYB5-Ry"
      },
      "source": [
        "from tensorflow.keras.layers import Dense, Dropout, Flatten, Conv2D, MaxPooling2D, AveragePooling2D, Input, BatchNormalization\n",
        "\n",
        "# TODO\n",
        "def build_dnn():\n",
        "    model = tf.keras.models.Sequential([\n",
        "      # YOUR CODE HERE\n",
        "      Flatten(input_shape=(28,28,1)),\n",
        "      Dense(128,activation='relu'),\n",
        "      Dropout(0.2),\n",
        "      Dense(64,activation=\"relu\"),\n",
        "      Dense(10,activation=\"softmax\")\n",
        "\n",
        "      \n",
        "    ])\n",
        "    return model"
      ],
      "execution_count": 8,
      "outputs": []
    },
    {
      "cell_type": "code",
      "metadata": {
        "id": "E67nbvDpK6Fe",
        "outputId": "ac939831-5a60-4664-b471-94e460012ad2",
        "colab": {
          "base_uri": "https://localhost:8080/"
        }
      },
      "source": [
        "model = build_dnn()\n",
        "model.summary()"
      ],
      "execution_count": 9,
      "outputs": [
        {
          "output_type": "stream",
          "text": [
            "Model: \"sequential\"\n",
            "_________________________________________________________________\n",
            "Layer (type)                 Output Shape              Param #   \n",
            "=================================================================\n",
            "flatten (Flatten)            (None, 784)               0         \n",
            "_________________________________________________________________\n",
            "dense (Dense)                (None, 128)               100480    \n",
            "_________________________________________________________________\n",
            "dropout (Dropout)            (None, 128)               0         \n",
            "_________________________________________________________________\n",
            "dense_1 (Dense)              (None, 64)                8256      \n",
            "_________________________________________________________________\n",
            "dense_2 (Dense)              (None, 10)                650       \n",
            "=================================================================\n",
            "Total params: 109,386\n",
            "Trainable params: 109,386\n",
            "Non-trainable params: 0\n",
            "_________________________________________________________________\n"
          ],
          "name": "stdout"
        }
      ]
    },
    {
      "cell_type": "code",
      "metadata": {
        "id": "Zz2dVTSLr3wG",
        "outputId": "bd47ccc0-cc5f-464b-90ed-14941fb798b5",
        "colab": {
          "base_uri": "https://localhost:8080/"
        }
      },
      "source": [
        "model.compile(optimizer=tf.keras.optimizers.Adam(),\n",
        "              loss='sparse_categorical_crossentropy',\n",
        "              metrics=['accuracy'])\n",
        "model.fit(train_dataset, epochs=20, steps_per_epoch=int(NUM_EXAMPLES/BATCH_SIZE),\n",
        "          validation_data=test_dataset, validation_steps=int(NUM_TESTING/BATCH_SIZE))"
      ],
      "execution_count": 10,
      "outputs": [
        {
          "output_type": "stream",
          "text": [
            "Epoch 1/20\n",
            "468/468 [==============================] - 8s 16ms/step - loss: 0.3822 - accuracy: 0.8877 - val_loss: 0.1579 - val_accuracy: 0.9533\n",
            "Epoch 2/20\n",
            "468/468 [==============================] - 2s 5ms/step - loss: 0.1658 - accuracy: 0.9507 - val_loss: 0.1173 - val_accuracy: 0.9639\n",
            "Epoch 3/20\n",
            "468/468 [==============================] - 2s 5ms/step - loss: 0.1249 - accuracy: 0.9624 - val_loss: 0.0960 - val_accuracy: 0.9704\n",
            "Epoch 4/20\n",
            "468/468 [==============================] - 2s 5ms/step - loss: 0.0989 - accuracy: 0.9698 - val_loss: 0.0837 - val_accuracy: 0.9748\n",
            "Epoch 5/20\n",
            "468/468 [==============================] - 2s 4ms/step - loss: 0.0840 - accuracy: 0.9740 - val_loss: 0.0756 - val_accuracy: 0.9763\n",
            "Epoch 6/20\n",
            "468/468 [==============================] - 2s 4ms/step - loss: 0.0732 - accuracy: 0.9781 - val_loss: 0.0750 - val_accuracy: 0.9774\n",
            "Epoch 7/20\n",
            "468/468 [==============================] - 2s 3ms/step - loss: 0.0663 - accuracy: 0.9790 - val_loss: 0.0707 - val_accuracy: 0.9777\n",
            "Epoch 8/20\n",
            "468/468 [==============================] - 2s 4ms/step - loss: 0.0574 - accuracy: 0.9818 - val_loss: 0.0682 - val_accuracy: 0.9800\n",
            "Epoch 9/20\n",
            "468/468 [==============================] - 2s 3ms/step - loss: 0.0533 - accuracy: 0.9826 - val_loss: 0.0668 - val_accuracy: 0.9794\n",
            "Epoch 10/20\n",
            "468/468 [==============================] - 2s 3ms/step - loss: 0.0487 - accuracy: 0.9839 - val_loss: 0.0716 - val_accuracy: 0.9793\n",
            "Epoch 11/20\n",
            "468/468 [==============================] - 2s 3ms/step - loss: 0.0447 - accuracy: 0.9849 - val_loss: 0.0631 - val_accuracy: 0.9818\n",
            "Epoch 12/20\n",
            "468/468 [==============================] - 2s 3ms/step - loss: 0.0407 - accuracy: 0.9862 - val_loss: 0.0678 - val_accuracy: 0.9814\n",
            "Epoch 13/20\n",
            "468/468 [==============================] - 2s 3ms/step - loss: 0.0399 - accuracy: 0.9866 - val_loss: 0.0644 - val_accuracy: 0.9819\n",
            "Epoch 14/20\n",
            "468/468 [==============================] - 2s 3ms/step - loss: 0.0359 - accuracy: 0.9879 - val_loss: 0.0730 - val_accuracy: 0.9789\n",
            "Epoch 15/20\n",
            "468/468 [==============================] - 2s 3ms/step - loss: 0.0355 - accuracy: 0.9883 - val_loss: 0.0703 - val_accuracy: 0.9808\n",
            "Epoch 16/20\n",
            "468/468 [==============================] - 2s 3ms/step - loss: 0.0318 - accuracy: 0.9888 - val_loss: 0.0691 - val_accuracy: 0.9818\n",
            "Epoch 17/20\n",
            "468/468 [==============================] - 2s 3ms/step - loss: 0.0309 - accuracy: 0.9892 - val_loss: 0.0725 - val_accuracy: 0.9804\n",
            "Epoch 18/20\n",
            "468/468 [==============================] - 2s 3ms/step - loss: 0.0303 - accuracy: 0.9895 - val_loss: 0.0709 - val_accuracy: 0.9818\n",
            "Epoch 19/20\n",
            "468/468 [==============================] - 2s 3ms/step - loss: 0.0291 - accuracy: 0.9902 - val_loss: 0.0752 - val_accuracy: 0.9804\n",
            "Epoch 20/20\n",
            "468/468 [==============================] - 2s 3ms/step - loss: 0.0286 - accuracy: 0.9900 - val_loss: 0.0790 - val_accuracy: 0.9807\n"
          ],
          "name": "stdout"
        },
        {
          "output_type": "execute_result",
          "data": {
            "text/plain": [
              "<tensorflow.python.keras.callbacks.History at 0x7fad3a16acc0>"
            ]
          },
          "metadata": {
            "tags": []
          },
          "execution_count": 10
        }
      ]
    },
    {
      "cell_type": "markdown",
      "metadata": {
        "id": "I2qvl3ZbroX9"
      },
      "source": [
        "## Build LeNet-5"
      ]
    },
    {
      "cell_type": "markdown",
      "metadata": {
        "id": "dr9e0KkB5s5n"
      },
      "source": [
        "![alt text](https://i.imgur.com/OD6XAUO.jpg)"
      ]
    },
    {
      "cell_type": "markdown",
      "metadata": {
        "id": "nSwdpiyk4_hc"
      },
      "source": [
        "```\n",
        "Model: \"LeNet\"\n",
        "_________________________________________________________________\n",
        "Layer (type)                 Output Shape              Param #   \n",
        "=================================================================\n",
        "conv2d_38 (Conv2D)           (None, 24, 24, 20)        520       \n",
        "_________________________________________________________________\n",
        "max_pooling2d_23 (MaxPooling (None, 12, 12, 20)        0         \n",
        "_________________________________________________________________\n",
        "conv2d_39 (Conv2D)           (None, 8, 8, 50)          25050     \n",
        "_________________________________________________________________\n",
        "max_pooling2d_24 (MaxPooling (None, 4, 4, 50)          0         \n",
        "_________________________________________________________________\n",
        "flatten_6 (Flatten)          (None, 800)               0         \n",
        "_________________________________________________________________\n",
        "dense_15 (Dense)             (None, 500)               400500    \n",
        "_________________________________________________________________\n",
        "dense_16 (Dense)             (None, 10)                5010      \n",
        "=================================================================\n",
        "Total params: 431,080\n",
        "Trainable params: 431,080\n",
        "Non-trainable params: 0\n",
        "_________________________________________________________________\n",
        "```"
      ]
    },
    {
      "cell_type": "code",
      "metadata": {
        "id": "LhR0fQ-0roI5"
      },
      "source": [
        "def build_lenet5():\n",
        "    model = tf.keras.models.Sequential()\n",
        "    # YOUR CODE HERE\n",
        "    \n",
        "    model.add( Conv2D(kernel_size=(5,5),filters=20,activation='relu',input_shape=(28,28,1)) )\n",
        "    model.add( MaxPooling2D(pool_size=(2,2), strides=(2,2)))\n",
        "\n",
        "    model.add(  Conv2D(kernel_size=(5,5),filters=50,activation='relu') )\n",
        "    model.add(  MaxPooling2D(pool_size=(2,2), strides=(2,2)) )\n",
        "\n",
        "    model.add( Flatten())\n",
        "    model.add( Dense(units=500,activation='relu'))\n",
        "    model.add( Dense(units=10,activation='softmax') )\n",
        "    return model"
      ],
      "execution_count": 14,
      "outputs": []
    },
    {
      "cell_type": "code",
      "metadata": {
        "id": "TEeH6T4JfQ-L",
        "outputId": "b58d4b4e-56bd-4933-e7f4-6cb056b5725e",
        "colab": {
          "base_uri": "https://localhost:8080/"
        }
      },
      "source": [
        "lenet = build_lenet5()\n",
        "lenet.summary()"
      ],
      "execution_count": 15,
      "outputs": [
        {
          "output_type": "stream",
          "text": [
            "Model: \"sequential_2\"\n",
            "_________________________________________________________________\n",
            "Layer (type)                 Output Shape              Param #   \n",
            "=================================================================\n",
            "conv2d (Conv2D)              (None, 24, 24, 20)        520       \n",
            "_________________________________________________________________\n",
            "max_pooling2d (MaxPooling2D) (None, 12, 12, 20)        0         \n",
            "_________________________________________________________________\n",
            "conv2d_1 (Conv2D)            (None, 8, 8, 50)          25050     \n",
            "_________________________________________________________________\n",
            "max_pooling2d_1 (MaxPooling2 (None, 4, 4, 50)          0         \n",
            "_________________________________________________________________\n",
            "flatten_1 (Flatten)          (None, 800)               0         \n",
            "_________________________________________________________________\n",
            "dense_3 (Dense)              (None, 500)               400500    \n",
            "_________________________________________________________________\n",
            "dense_4 (Dense)              (None, 10)                5010      \n",
            "=================================================================\n",
            "Total params: 431,080\n",
            "Trainable params: 431,080\n",
            "Non-trainable params: 0\n",
            "_________________________________________________________________\n"
          ],
          "name": "stdout"
        }
      ]
    },
    {
      "cell_type": "code",
      "metadata": {
        "id": "qmdO4WHMfWDY",
        "outputId": "b565ff58-88cd-4926-bb79-0902460540c7",
        "colab": {
          "base_uri": "https://localhost:8080/"
        }
      },
      "source": [
        "lenet.compile(optimizer=tf.keras.optimizers.Adam(),\n",
        "              loss='sparse_categorical_crossentropy',\n",
        "              metrics=['accuracy'])\n",
        "lenet.fit(train_dataset, epochs=20, steps_per_epoch=int(NUM_EXAMPLES/BATCH_SIZE),\n",
        "          validation_data=test_dataset, validation_steps=int(NUM_TESTING/BATCH_SIZE))"
      ],
      "execution_count": 16,
      "outputs": [
        {
          "output_type": "stream",
          "text": [
            "Epoch 1/20\n",
            "468/468 [==============================] - 2s 4ms/step - loss: 0.1781 - accuracy: 0.9467 - val_loss: 0.0560 - val_accuracy: 0.9833\n",
            "Epoch 2/20\n",
            "468/468 [==============================] - 2s 4ms/step - loss: 0.0462 - accuracy: 0.9855 - val_loss: 0.0383 - val_accuracy: 0.9881\n",
            "Epoch 3/20\n",
            "468/468 [==============================] - 2s 4ms/step - loss: 0.0321 - accuracy: 0.9897 - val_loss: 0.0279 - val_accuracy: 0.9911\n",
            "Epoch 4/20\n",
            "468/468 [==============================] - 2s 4ms/step - loss: 0.0237 - accuracy: 0.9925 - val_loss: 0.0336 - val_accuracy: 0.9896\n",
            "Epoch 5/20\n",
            "468/468 [==============================] - 2s 4ms/step - loss: 0.0189 - accuracy: 0.9940 - val_loss: 0.0294 - val_accuracy: 0.9913\n",
            "Epoch 6/20\n",
            "468/468 [==============================] - 2s 4ms/step - loss: 0.0145 - accuracy: 0.9955 - val_loss: 0.0287 - val_accuracy: 0.9922\n",
            "Epoch 7/20\n",
            "468/468 [==============================] - 2s 4ms/step - loss: 0.0102 - accuracy: 0.9969 - val_loss: 0.0298 - val_accuracy: 0.9925\n",
            "Epoch 8/20\n",
            "468/468 [==============================] - 2s 4ms/step - loss: 0.0096 - accuracy: 0.9970 - val_loss: 0.0326 - val_accuracy: 0.9920\n",
            "Epoch 9/20\n",
            "468/468 [==============================] - 2s 4ms/step - loss: 0.0082 - accuracy: 0.9974 - val_loss: 0.0324 - val_accuracy: 0.9915\n",
            "Epoch 10/20\n",
            "468/468 [==============================] - 2s 4ms/step - loss: 0.0075 - accuracy: 0.9975 - val_loss: 0.0377 - val_accuracy: 0.9906\n",
            "Epoch 11/20\n",
            "468/468 [==============================] - 2s 4ms/step - loss: 0.0063 - accuracy: 0.9979 - val_loss: 0.0313 - val_accuracy: 0.9920\n",
            "Epoch 12/20\n",
            "468/468 [==============================] - 2s 4ms/step - loss: 0.0073 - accuracy: 0.9974 - val_loss: 0.0332 - val_accuracy: 0.9915\n",
            "Epoch 13/20\n",
            "468/468 [==============================] - 2s 4ms/step - loss: 0.0053 - accuracy: 0.9983 - val_loss: 0.0351 - val_accuracy: 0.9924\n",
            "Epoch 14/20\n",
            "468/468 [==============================] - 2s 4ms/step - loss: 0.0053 - accuracy: 0.9982 - val_loss: 0.0443 - val_accuracy: 0.9902\n",
            "Epoch 15/20\n",
            "468/468 [==============================] - 2s 4ms/step - loss: 0.0049 - accuracy: 0.9983 - val_loss: 0.0357 - val_accuracy: 0.9920\n",
            "Epoch 16/20\n",
            "468/468 [==============================] - 2s 4ms/step - loss: 0.0051 - accuracy: 0.9984 - val_loss: 0.0375 - val_accuracy: 0.9913\n",
            "Epoch 17/20\n",
            "468/468 [==============================] - 2s 4ms/step - loss: 0.0041 - accuracy: 0.9986 - val_loss: 0.0368 - val_accuracy: 0.9920\n",
            "Epoch 18/20\n",
            "468/468 [==============================] - 2s 4ms/step - loss: 0.0040 - accuracy: 0.9985 - val_loss: 0.0397 - val_accuracy: 0.9928\n",
            "Epoch 19/20\n",
            "468/468 [==============================] - 2s 4ms/step - loss: 0.0041 - accuracy: 0.9986 - val_loss: 0.0421 - val_accuracy: 0.9911\n",
            "Epoch 20/20\n",
            "468/468 [==============================] - 2s 4ms/step - loss: 0.0031 - accuracy: 0.9990 - val_loss: 0.0427 - val_accuracy: 0.9920\n"
          ],
          "name": "stdout"
        },
        {
          "output_type": "execute_result",
          "data": {
            "text/plain": [
              "<tensorflow.python.keras.callbacks.History at 0x7fad39f02e10>"
            ]
          },
          "metadata": {
            "tags": []
          },
          "execution_count": 16
        }
      ]
    },
    {
      "cell_type": "code",
      "metadata": {
        "id": "i5chPg8ggb8m"
      },
      "source": [
        "lenet.save('lenet5.h5')"
      ],
      "execution_count": null,
      "outputs": []
    },
    {
      "cell_type": "markdown",
      "metadata": {
        "id": "dJrf9o_gEB1p"
      },
      "source": [
        "##Build AlexNet"
      ]
    },
    {
      "cell_type": "markdown",
      "metadata": {
        "id": "NtQG-oDZoUH0"
      },
      "source": [
        "\n",
        "\n",
        "```\n",
        "Model: \"AlexNet\" \n",
        "_________________________________________________________________\n",
        "Layer (type)                 Output Shape              Param #   \n",
        "=================================================================\n",
        "conv2d_40 (Conv2D)           (None, 55, 55, 96)        34944     \n",
        "_________________________________________________________________\n",
        "max_pooling2d_18 (MaxPooling (None, 27, 27, 96)        0         \n",
        "_________________________________________________________________\n",
        "conv2d_41 (Conv2D)           (None, 27, 27, 256)       614656    \n",
        "_________________________________________________________________\n",
        "max_pooling2d_19 (MaxPooling (None, 13, 13, 256)       0         \n",
        "_________________________________________________________________\n",
        "conv2d_42 (Conv2D)           (None, 13, 13, 384)       885120    \n",
        "_________________________________________________________________\n",
        "conv2d_43 (Conv2D)           (None, 13, 13, 384)       1327488   \n",
        "_________________________________________________________________\n",
        "conv2d_44 (Conv2D)           (None, 13, 13, 256)       884992    \n",
        "_________________________________________________________________\n",
        "max_pooling2d_20 (MaxPooling (None, 6, 6, 256)         0         \n",
        "_________________________________________________________________\n",
        "flatten_7 (Flatten)          (None, 9216)              0         \n",
        "_________________________________________________________________\n",
        "dense_21 (Dense)             (None, 4096)              37752832  \n",
        "_________________________________________________________________\n",
        "dense_22 (Dense)             (None, 4096)              16781312  \n",
        "_________________________________________________________________\n",
        "dense_23 (Dense)             (None, 1000)              4097000   \n",
        "=================================================================\n",
        "Total params: 62,378,344\n",
        "Trainable params: 62,378,344\n",
        "Non-trainable params: 0\n",
        "_________________________________________________________________\n",
        "```"
      ]
    },
    {
      "cell_type": "markdown",
      "metadata": {
        "id": "nInc7isJ9gyL"
      },
      "source": [
        "![alt text](https://i.imgur.com/pHF2INm.png)"
      ]
    },
    {
      "cell_type": "code",
      "metadata": {
        "id": "JUcSJ14ToVus",
        "outputId": "d1a6ff3a-6056-41db-b885-e738e5dd7a3d",
        "colab": {
          "base_uri": "https://localhost:8080/"
        }
      },
      "source": [
        "def build_alexnet():\n",
        "    model = tf.keras.models.Sequential([\n",
        "      Conv2D(96,kernel_size=(11,11),strides=(4,4),input_shape=(227,227,3),activation='relu'),\n",
        "      MaxPooling2D(pool_size=(3,3),strides=(2,2)),\n",
        "\n",
        "      Conv2D(256,kernel_size=(5,5),padding='same',activation='relu'),\n",
        "      MaxPooling2D(pool_size=(3,3),strides=(2,2)),\n",
        "\n",
        "      Conv2D(384,kernel_size=(3,3),padding='same',activation='relu'),\n",
        "      Conv2D(384,kernel_size=(3,3),padding='same',activation='relu'),\n",
        "      Conv2D(256,kernel_size=(3,3),padding='same',activation='relu'),\n",
        "\n",
        "      MaxPooling2D(pool_size=(3,3),strides=(2,2)),\n",
        "\n",
        "      Flatten(),\n",
        "      Dense(4096, activation='relu'),\n",
        "      Dense(4096, activation='relu'),\n",
        "      Dense(1000, activation='softmax')\n",
        "      \n",
        "    ])\n",
        "    return model\n",
        "\n",
        "model = build_alexnet()\n",
        "model.summary()"
      ],
      "execution_count": 19,
      "outputs": [
        {
          "output_type": "stream",
          "text": [
            "Model: \"sequential_3\"\n",
            "_________________________________________________________________\n",
            "Layer (type)                 Output Shape              Param #   \n",
            "=================================================================\n",
            "conv2d_3 (Conv2D)            (None, 55, 55, 96)        34944     \n",
            "_________________________________________________________________\n",
            "max_pooling2d_3 (MaxPooling2 (None, 27, 27, 96)        0         \n",
            "_________________________________________________________________\n",
            "conv2d_4 (Conv2D)            (None, 27, 27, 256)       614656    \n",
            "_________________________________________________________________\n",
            "max_pooling2d_4 (MaxPooling2 (None, 13, 13, 256)       0         \n",
            "_________________________________________________________________\n",
            "conv2d_5 (Conv2D)            (None, 13, 13, 384)       885120    \n",
            "_________________________________________________________________\n",
            "conv2d_6 (Conv2D)            (None, 13, 13, 384)       1327488   \n",
            "_________________________________________________________________\n",
            "conv2d_7 (Conv2D)            (None, 13, 13, 256)       884992    \n",
            "_________________________________________________________________\n",
            "max_pooling2d_5 (MaxPooling2 (None, 6, 6, 256)         0         \n",
            "_________________________________________________________________\n",
            "flatten_2 (Flatten)          (None, 9216)              0         \n",
            "_________________________________________________________________\n",
            "dense_5 (Dense)              (None, 4096)              37752832  \n",
            "_________________________________________________________________\n",
            "dense_6 (Dense)              (None, 4096)              16781312  \n",
            "_________________________________________________________________\n",
            "dense_7 (Dense)              (None, 1000)              4097000   \n",
            "=================================================================\n",
            "Total params: 62,378,344\n",
            "Trainable params: 62,378,344\n",
            "Non-trainable params: 0\n",
            "_________________________________________________________________\n"
          ],
          "name": "stdout"
        }
      ]
    },
    {
      "cell_type": "markdown",
      "metadata": {
        "id": "U4P8e5QKoitL"
      },
      "source": [
        "### Challenge Time!"
      ]
    },
    {
      "cell_type": "markdown",
      "metadata": {
        "id": "SExW1b5XpAkP"
      },
      "source": [
        "**CNN architecture**\n",
        "\n",
        "Consider a CNN composed of three convolutional layers, each with 3 × 3 kernels, a stride of 2, and \"same\" padding. The lowest layer outputs 100 feature maps, the middle one outputs 200, and the top one outputs 400. The input images are RGB images of 200 × 300 pixels.\n",
        "\n",
        "What is the total number of parameters in the CNN? If we are using 32-bit floats, at least how much RAM will this network require when making a prediction for a single instance? What about when training on a mini-batch of 50 images?"
      ]
    },
    {
      "cell_type": "code",
      "metadata": {
        "id": "YiWZcudnjhbx"
      },
      "source": [
        "# Your answer in number or words\n",
        "\n"
      ],
      "execution_count": null,
      "outputs": []
    },
    {
      "cell_type": "markdown",
      "metadata": {
        "id": "Lw30XfSSoXdT"
      },
      "source": [
        "## Build VGG16"
      ]
    },
    {
      "cell_type": "markdown",
      "metadata": {
        "id": "Cdo7aX_P5Qbh"
      },
      "source": [
        "![](https://media5.datahacker.rs/2019/02/vgg.png)\n",
        "\n",
        "```\n",
        "Model: \"vgg16\"\n",
        "_________________________________________________________________\n",
        "Layer (type)                 Output Shape              Param #   \n",
        "=================================================================\n",
        "conv2d_159 (Conv2D)          (None, 224, 224, 64)      1792      \n",
        "_________________________________________________________________\n",
        "conv2d_160 (Conv2D)          (None, 224, 224, 64)      36928     \n",
        "_________________________________________________________________\n",
        "max_pooling2d_67 (MaxPooling (None, 112, 112, 64)      0         \n",
        "_________________________________________________________________\n",
        "conv2d_161 (Conv2D)          (None, 112, 112, 128)     73856     \n",
        "_________________________________________________________________\n",
        "conv2d_162 (Conv2D)          (None, 112, 112, 128)     147584    \n",
        "_________________________________________________________________\n",
        "max_pooling2d_68 (MaxPooling (None, 56, 56, 128)       0         \n",
        "_________________________________________________________________\n",
        "conv2d_163 (Conv2D)          (None, 56, 56, 256)       295168    \n",
        "_________________________________________________________________\n",
        "conv2d_164 (Conv2D)          (None, 56, 56, 256)       590080    \n",
        "_________________________________________________________________\n",
        "conv2d_165 (Conv2D)          (None, 56, 56, 256)       590080    \n",
        "_________________________________________________________________\n",
        "max_pooling2d_69 (MaxPooling (None, 28, 28, 256)       0         \n",
        "_________________________________________________________________\n",
        "conv2d_166 (Conv2D)          (None, 28, 28, 512)       1180160   \n",
        "_________________________________________________________________\n",
        "conv2d_167 (Conv2D)          (None, 28, 28, 512)       2359808   \n",
        "_________________________________________________________________\n",
        "conv2d_168 (Conv2D)          (None, 28, 28, 512)       2359808   \n",
        "_________________________________________________________________\n",
        "max_pooling2d_70 (MaxPooling (None, 14, 14, 512)       0         \n",
        "_________________________________________________________________\n",
        "conv2d_169 (Conv2D)          (None, 14, 14, 512)       2359808   \n",
        "_________________________________________________________________\n",
        "conv2d_170 (Conv2D)          (None, 14, 14, 512)       2359808   \n",
        "_________________________________________________________________\n",
        "conv2d_171 (Conv2D)          (None, 14, 14, 512)       2359808   \n",
        "_________________________________________________________________\n",
        "max_pooling2d_71 (MaxPooling (None, 7, 7, 512)         0         \n",
        "_________________________________________________________________\n",
        "flatten_16 (Flatten)         (None, 25088)             0         \n",
        "_________________________________________________________________\n",
        "dense_39 (Dense)             (None, 4096)              102764544 \n",
        "_________________________________________________________________\n",
        "dense_40 (Dense)             (None, 4096)              16781312  \n",
        "_________________________________________________________________\n",
        "dense_41 (Dense)             (None, 1000)              4097000   \n",
        "=================================================================\n",
        "Total params: 138,357,544\n",
        "Trainable params: 138,357,544\n",
        "Non-trainable params: 0\n",
        "_________________________________________________________________\n",
        "```"
      ]
    },
    {
      "cell_type": "markdown",
      "metadata": {
        "id": "hdBEUs0FjnbD"
      },
      "source": [
        "We load the real transfer learning VGG16 from Keras to get the parameters from it!"
      ]
    },
    {
      "cell_type": "code",
      "metadata": {
        "id": "L2gG9bhNoZMF",
        "outputId": "e244fd10-50c1-4893-8199-b922ef3eaf1f",
        "colab": {
          "base_uri": "https://localhost:8080/",
          "height": 1000
        }
      },
      "source": [
        "from tensorflow.keras.applications.vgg16 import VGG16\n",
        "\n",
        "vgg16 = VGG16(weights='imagenet', include_top=True, input_shape=(224, 224, 3))\n",
        "vgg16.summary()"
      ],
      "execution_count": null,
      "outputs": [
        {
          "output_type": "stream",
          "text": [
            "Downloading data from https://storage.googleapis.com/tensorflow/keras-applications/vgg16/vgg16_weights_tf_dim_ordering_tf_kernels.h5\n",
            "553467904/553467096 [==============================] - 7s 0us/step\n",
            "Model: \"vgg16\"\n",
            "_________________________________________________________________\n",
            "Layer (type)                 Output Shape              Param #   \n",
            "=================================================================\n",
            "input_1 (InputLayer)         [(None, 224, 224, 3)]     0         \n",
            "_________________________________________________________________\n",
            "block1_conv1 (Conv2D)        (None, 224, 224, 64)      1792      \n",
            "_________________________________________________________________\n",
            "block1_conv2 (Conv2D)        (None, 224, 224, 64)      36928     \n",
            "_________________________________________________________________\n",
            "block1_pool (MaxPooling2D)   (None, 112, 112, 64)      0         \n",
            "_________________________________________________________________\n",
            "block2_conv1 (Conv2D)        (None, 112, 112, 128)     73856     \n",
            "_________________________________________________________________\n",
            "block2_conv2 (Conv2D)        (None, 112, 112, 128)     147584    \n",
            "_________________________________________________________________\n",
            "block2_pool (MaxPooling2D)   (None, 56, 56, 128)       0         \n",
            "_________________________________________________________________\n",
            "block3_conv1 (Conv2D)        (None, 56, 56, 256)       295168    \n",
            "_________________________________________________________________\n",
            "block3_conv2 (Conv2D)        (None, 56, 56, 256)       590080    \n",
            "_________________________________________________________________\n",
            "block3_conv3 (Conv2D)        (None, 56, 56, 256)       590080    \n",
            "_________________________________________________________________\n",
            "block3_pool (MaxPooling2D)   (None, 28, 28, 256)       0         \n",
            "_________________________________________________________________\n",
            "block4_conv1 (Conv2D)        (None, 28, 28, 512)       1180160   \n",
            "_________________________________________________________________\n",
            "block4_conv2 (Conv2D)        (None, 28, 28, 512)       2359808   \n",
            "_________________________________________________________________\n",
            "block4_conv3 (Conv2D)        (None, 28, 28, 512)       2359808   \n",
            "_________________________________________________________________\n",
            "block4_pool (MaxPooling2D)   (None, 14, 14, 512)       0         \n",
            "_________________________________________________________________\n",
            "block5_conv1 (Conv2D)        (None, 14, 14, 512)       2359808   \n",
            "_________________________________________________________________\n",
            "block5_conv2 (Conv2D)        (None, 14, 14, 512)       2359808   \n",
            "_________________________________________________________________\n",
            "block5_conv3 (Conv2D)        (None, 14, 14, 512)       2359808   \n",
            "_________________________________________________________________\n",
            "block5_pool (MaxPooling2D)   (None, 7, 7, 512)         0         \n",
            "_________________________________________________________________\n",
            "flatten (Flatten)            (None, 25088)             0         \n",
            "_________________________________________________________________\n",
            "fc1 (Dense)                  (None, 4096)              102764544 \n",
            "_________________________________________________________________\n",
            "fc2 (Dense)                  (None, 4096)              16781312  \n",
            "_________________________________________________________________\n",
            "predictions (Dense)          (None, 1000)              4097000   \n",
            "=================================================================\n",
            "Total params: 138,357,544\n",
            "Trainable params: 138,357,544\n",
            "Non-trainable params: 0\n",
            "_________________________________________________________________\n"
          ],
          "name": "stdout"
        }
      ]
    },
    {
      "cell_type": "markdown",
      "metadata": {
        "id": "SQ-PdRtRjuqH"
      },
      "source": [
        "Get the weights from the real VGG16 model!"
      ]
    },
    {
      "cell_type": "code",
      "metadata": {
        "id": "hA8QI5wosFen"
      },
      "source": [
        "weights = vgg16.get_weights()"
      ],
      "execution_count": null,
      "outputs": []
    },
    {
      "cell_type": "code",
      "metadata": {
        "id": "9z2PQBKSsHyF"
      },
      "source": [
        "def build_vgg16():\n",
        "      model = tf.keras.models.Sequential([                \n",
        "        # YOUR CODE HERE\n",
        "\n",
        "        \n",
        "  \n",
        "      ])\n",
        "      return model"
      ],
      "execution_count": null,
      "outputs": []
    },
    {
      "cell_type": "markdown",
      "metadata": {
        "id": "6UvtLlBkj1SJ"
      },
      "source": [
        "If you build your model correctly then it can load the pretrained weigths of VGG16 without any error! It's gonna be impressive since you have build the VGG-16 from scratch!"
      ]
    },
    {
      "cell_type": "code",
      "metadata": {
        "id": "wrLnRrpqsMfx"
      },
      "source": [
        "model = build_vgg16()\n",
        "model.set_weights(weights)"
      ],
      "execution_count": null,
      "outputs": []
    },
    {
      "cell_type": "code",
      "metadata": {
        "id": "askbPnOI2EDx",
        "outputId": "5bc5d06d-11f9-4cc8-9b90-d52230a2e266",
        "colab": {
          "base_uri": "https://localhost:8080/",
          "height": 963
        }
      },
      "source": [
        "model.summary()"
      ],
      "execution_count": null,
      "outputs": [
        {
          "output_type": "stream",
          "text": [
            "Model: \"sequential\"\n",
            "_________________________________________________________________\n",
            "Layer (type)                 Output Shape              Param #   \n",
            "=================================================================\n",
            "conv2d (Conv2D)              (None, 224, 224, 64)      1792      \n",
            "_________________________________________________________________\n",
            "conv2d_1 (Conv2D)            (None, 224, 224, 64)      36928     \n",
            "_________________________________________________________________\n",
            "max_pooling2d (MaxPooling2D) (None, 112, 112, 64)      0         \n",
            "_________________________________________________________________\n",
            "conv2d_2 (Conv2D)            (None, 112, 112, 128)     73856     \n",
            "_________________________________________________________________\n",
            "conv2d_3 (Conv2D)            (None, 112, 112, 128)     147584    \n",
            "_________________________________________________________________\n",
            "max_pooling2d_1 (MaxPooling2 (None, 56, 56, 128)       0         \n",
            "_________________________________________________________________\n",
            "conv2d_4 (Conv2D)            (None, 56, 56, 256)       295168    \n",
            "_________________________________________________________________\n",
            "conv2d_5 (Conv2D)            (None, 56, 56, 256)       590080    \n",
            "_________________________________________________________________\n",
            "conv2d_6 (Conv2D)            (None, 56, 56, 256)       590080    \n",
            "_________________________________________________________________\n",
            "max_pooling2d_2 (MaxPooling2 (None, 28, 28, 256)       0         \n",
            "_________________________________________________________________\n",
            "conv2d_7 (Conv2D)            (None, 28, 28, 512)       1180160   \n",
            "_________________________________________________________________\n",
            "conv2d_8 (Conv2D)            (None, 28, 28, 512)       2359808   \n",
            "_________________________________________________________________\n",
            "conv2d_9 (Conv2D)            (None, 28, 28, 512)       2359808   \n",
            "_________________________________________________________________\n",
            "max_pooling2d_3 (MaxPooling2 (None, 14, 14, 512)       0         \n",
            "_________________________________________________________________\n",
            "conv2d_10 (Conv2D)           (None, 14, 14, 512)       2359808   \n",
            "_________________________________________________________________\n",
            "conv2d_11 (Conv2D)           (None, 14, 14, 512)       2359808   \n",
            "_________________________________________________________________\n",
            "conv2d_12 (Conv2D)           (None, 14, 14, 512)       2359808   \n",
            "_________________________________________________________________\n",
            "max_pooling2d_4 (MaxPooling2 (None, 7, 7, 512)         0         \n",
            "_________________________________________________________________\n",
            "flatten (Flatten)            (None, 25088)             0         \n",
            "_________________________________________________________________\n",
            "dense (Dense)                (None, 4096)              102764544 \n",
            "_________________________________________________________________\n",
            "dense_1 (Dense)              (None, 4096)              16781312  \n",
            "_________________________________________________________________\n",
            "dense_2 (Dense)              (None, 1000)              4097000   \n",
            "=================================================================\n",
            "Total params: 138,357,544\n",
            "Trainable params: 138,357,544\n",
            "Non-trainable params: 0\n",
            "_________________________________________________________________\n"
          ],
          "name": "stdout"
        }
      ]
    },
    {
      "cell_type": "markdown",
      "metadata": {
        "id": "o-yTB3dNDtkz"
      },
      "source": [
        "## Neural Style Transfer Art Competition"
      ]
    },
    {
      "cell_type": "markdown",
      "metadata": {
        "id": "3GoXbIPjowiE"
      },
      "source": [
        "**Go through TensorFlow's [Style Transfer tutorial](https://homl.info/styletuto)**"
      ]
    }
  ]
}